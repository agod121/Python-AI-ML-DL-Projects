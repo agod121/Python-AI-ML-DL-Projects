{
  "nbformat": 4,
  "nbformat_minor": 0,
  "metadata": {
    "colab": {
      "name": "HR_Attrition_Machine_Learning_End_to_End_Predictive_model_Pycaret_July_2022 (1).ipynb",
      "provenance": [],
      "collapsed_sections": []
    },
    "kernelspec": {
      "display_name": "Python 3",
      "name": "python3"
    },
    "gpuClass": "standard",
    "widgets": {
      "application/vnd.jupyter.widget-state+json": {
        "ca5d97d967d64dcd8e299d5429b301f2": {
          "model_module": "@jupyter-widgets/controls",
          "model_name": "HBoxModel",
          "model_module_version": "1.5.0",
          "state": {
            "_dom_classes": [],
            "_model_module": "@jupyter-widgets/controls",
            "_model_module_version": "1.5.0",
            "_model_name": "HBoxModel",
            "_view_count": null,
            "_view_module": "@jupyter-widgets/controls",
            "_view_module_version": "1.5.0",
            "_view_name": "HBoxView",
            "box_style": "",
            "children": [
              "IPY_MODEL_e0679c846b654e1ca2e3ee9674945f46",
              "IPY_MODEL_ad8fc7d87dba414c82f0bf7a8823b22d",
              "IPY_MODEL_fbed05fcc9b14627b57ed2e3fb3d9af4"
            ],
            "layout": "IPY_MODEL_b1aa89baecbc45fa92103ac4e136a379"
          }
        },
        "e0679c846b654e1ca2e3ee9674945f46": {
          "model_module": "@jupyter-widgets/controls",
          "model_name": "HTMLModel",
          "model_module_version": "1.5.0",
          "state": {
            "_dom_classes": [],
            "_model_module": "@jupyter-widgets/controls",
            "_model_module_version": "1.5.0",
            "_model_name": "HTMLModel",
            "_view_count": null,
            "_view_module": "@jupyter-widgets/controls",
            "_view_module_version": "1.5.0",
            "_view_name": "HTMLView",
            "description": "",
            "description_tooltip": null,
            "layout": "IPY_MODEL_1accd8ffc06842508794175b6755be61",
            "placeholder": "​",
            "style": "IPY_MODEL_7b89c618bdd8430081816ad0b221e212",
            "value": "Processing: 100%"
          }
        },
        "ad8fc7d87dba414c82f0bf7a8823b22d": {
          "model_module": "@jupyter-widgets/controls",
          "model_name": "FloatProgressModel",
          "model_module_version": "1.5.0",
          "state": {
            "_dom_classes": [],
            "_model_module": "@jupyter-widgets/controls",
            "_model_module_version": "1.5.0",
            "_model_name": "FloatProgressModel",
            "_view_count": null,
            "_view_module": "@jupyter-widgets/controls",
            "_view_module_version": "1.5.0",
            "_view_name": "ProgressView",
            "bar_style": "",
            "description": "",
            "description_tooltip": null,
            "layout": "IPY_MODEL_5879d149a12445faa89ce2edd4f6630c",
            "max": 4,
            "min": 0,
            "orientation": "horizontal",
            "style": "IPY_MODEL_0c4a099b9d2f43f6a51e1b361797d685",
            "value": 4
          }
        },
        "fbed05fcc9b14627b57ed2e3fb3d9af4": {
          "model_module": "@jupyter-widgets/controls",
          "model_name": "HTMLModel",
          "model_module_version": "1.5.0",
          "state": {
            "_dom_classes": [],
            "_model_module": "@jupyter-widgets/controls",
            "_model_module_version": "1.5.0",
            "_model_name": "HTMLModel",
            "_view_count": null,
            "_view_module": "@jupyter-widgets/controls",
            "_view_module_version": "1.5.0",
            "_view_name": "HTMLView",
            "description": "",
            "description_tooltip": null,
            "layout": "IPY_MODEL_ed5c4e8943e8461a9bbfb74051b93775",
            "placeholder": "​",
            "style": "IPY_MODEL_4f464a0cdbcb4ec5b481363e403e1079",
            "value": " 4/4 [00:11&lt;00:00,  2.72s/it]"
          }
        },
        "b1aa89baecbc45fa92103ac4e136a379": {
          "model_module": "@jupyter-widgets/base",
          "model_name": "LayoutModel",
          "model_module_version": "1.2.0",
          "state": {
            "_model_module": "@jupyter-widgets/base",
            "_model_module_version": "1.2.0",
            "_model_name": "LayoutModel",
            "_view_count": null,
            "_view_module": "@jupyter-widgets/base",
            "_view_module_version": "1.2.0",
            "_view_name": "LayoutView",
            "align_content": null,
            "align_items": null,
            "align_self": null,
            "border": null,
            "bottom": null,
            "display": null,
            "flex": null,
            "flex_flow": null,
            "grid_area": null,
            "grid_auto_columns": null,
            "grid_auto_flow": null,
            "grid_auto_rows": null,
            "grid_column": null,
            "grid_gap": null,
            "grid_row": null,
            "grid_template_areas": null,
            "grid_template_columns": null,
            "grid_template_rows": null,
            "height": null,
            "justify_content": null,
            "justify_items": null,
            "left": null,
            "margin": null,
            "max_height": null,
            "max_width": null,
            "min_height": null,
            "min_width": null,
            "object_fit": null,
            "object_position": null,
            "order": null,
            "overflow": null,
            "overflow_x": null,
            "overflow_y": null,
            "padding": null,
            "right": null,
            "top": null,
            "visibility": null,
            "width": null
          }
        },
        "1accd8ffc06842508794175b6755be61": {
          "model_module": "@jupyter-widgets/base",
          "model_name": "LayoutModel",
          "model_module_version": "1.2.0",
          "state": {
            "_model_module": "@jupyter-widgets/base",
            "_model_module_version": "1.2.0",
            "_model_name": "LayoutModel",
            "_view_count": null,
            "_view_module": "@jupyter-widgets/base",
            "_view_module_version": "1.2.0",
            "_view_name": "LayoutView",
            "align_content": null,
            "align_items": null,
            "align_self": null,
            "border": null,
            "bottom": null,
            "display": null,
            "flex": null,
            "flex_flow": null,
            "grid_area": null,
            "grid_auto_columns": null,
            "grid_auto_flow": null,
            "grid_auto_rows": null,
            "grid_column": null,
            "grid_gap": null,
            "grid_row": null,
            "grid_template_areas": null,
            "grid_template_columns": null,
            "grid_template_rows": null,
            "height": null,
            "justify_content": null,
            "justify_items": null,
            "left": null,
            "margin": null,
            "max_height": null,
            "max_width": null,
            "min_height": null,
            "min_width": null,
            "object_fit": null,
            "object_position": null,
            "order": null,
            "overflow": null,
            "overflow_x": null,
            "overflow_y": null,
            "padding": null,
            "right": null,
            "top": null,
            "visibility": null,
            "width": null
          }
        },
        "7b89c618bdd8430081816ad0b221e212": {
          "model_module": "@jupyter-widgets/controls",
          "model_name": "DescriptionStyleModel",
          "model_module_version": "1.5.0",
          "state": {
            "_model_module": "@jupyter-widgets/controls",
            "_model_module_version": "1.5.0",
            "_model_name": "DescriptionStyleModel",
            "_view_count": null,
            "_view_module": "@jupyter-widgets/base",
            "_view_module_version": "1.2.0",
            "_view_name": "StyleView",
            "description_width": ""
          }
        },
        "5879d149a12445faa89ce2edd4f6630c": {
          "model_module": "@jupyter-widgets/base",
          "model_name": "LayoutModel",
          "model_module_version": "1.2.0",
          "state": {
            "_model_module": "@jupyter-widgets/base",
            "_model_module_version": "1.2.0",
            "_model_name": "LayoutModel",
            "_view_count": null,
            "_view_module": "@jupyter-widgets/base",
            "_view_module_version": "1.2.0",
            "_view_name": "LayoutView",
            "align_content": null,
            "align_items": null,
            "align_self": null,
            "border": null,
            "bottom": null,
            "display": null,
            "flex": null,
            "flex_flow": null,
            "grid_area": null,
            "grid_auto_columns": null,
            "grid_auto_flow": null,
            "grid_auto_rows": null,
            "grid_column": null,
            "grid_gap": null,
            "grid_row": null,
            "grid_template_areas": null,
            "grid_template_columns": null,
            "grid_template_rows": null,
            "height": null,
            "justify_content": null,
            "justify_items": null,
            "left": null,
            "margin": null,
            "max_height": null,
            "max_width": null,
            "min_height": null,
            "min_width": null,
            "object_fit": null,
            "object_position": null,
            "order": null,
            "overflow": null,
            "overflow_x": null,
            "overflow_y": null,
            "padding": null,
            "right": null,
            "top": null,
            "visibility": null,
            "width": null
          }
        },
        "0c4a099b9d2f43f6a51e1b361797d685": {
          "model_module": "@jupyter-widgets/controls",
          "model_name": "ProgressStyleModel",
          "model_module_version": "1.5.0",
          "state": {
            "_model_module": "@jupyter-widgets/controls",
            "_model_module_version": "1.5.0",
            "_model_name": "ProgressStyleModel",
            "_view_count": null,
            "_view_module": "@jupyter-widgets/base",
            "_view_module_version": "1.2.0",
            "_view_name": "StyleView",
            "bar_color": null,
            "description_width": ""
          }
        },
        "ed5c4e8943e8461a9bbfb74051b93775": {
          "model_module": "@jupyter-widgets/base",
          "model_name": "LayoutModel",
          "model_module_version": "1.2.0",
          "state": {
            "_model_module": "@jupyter-widgets/base",
            "_model_module_version": "1.2.0",
            "_model_name": "LayoutModel",
            "_view_count": null,
            "_view_module": "@jupyter-widgets/base",
            "_view_module_version": "1.2.0",
            "_view_name": "LayoutView",
            "align_content": null,
            "align_items": null,
            "align_self": null,
            "border": null,
            "bottom": null,
            "display": null,
            "flex": null,
            "flex_flow": null,
            "grid_area": null,
            "grid_auto_columns": null,
            "grid_auto_flow": null,
            "grid_auto_rows": null,
            "grid_column": null,
            "grid_gap": null,
            "grid_row": null,
            "grid_template_areas": null,
            "grid_template_columns": null,
            "grid_template_rows": null,
            "height": null,
            "justify_content": null,
            "justify_items": null,
            "left": null,
            "margin": null,
            "max_height": null,
            "max_width": null,
            "min_height": null,
            "min_width": null,
            "object_fit": null,
            "object_position": null,
            "order": null,
            "overflow": null,
            "overflow_x": null,
            "overflow_y": null,
            "padding": null,
            "right": null,
            "top": null,
            "visibility": null,
            "width": null
          }
        },
        "4f464a0cdbcb4ec5b481363e403e1079": {
          "model_module": "@jupyter-widgets/controls",
          "model_name": "DescriptionStyleModel",
          "model_module_version": "1.5.0",
          "state": {
            "_model_module": "@jupyter-widgets/controls",
            "_model_module_version": "1.5.0",
            "_model_name": "DescriptionStyleModel",
            "_view_count": null,
            "_view_module": "@jupyter-widgets/base",
            "_view_module_version": "1.2.0",
            "_view_name": "StyleView",
            "description_width": ""
          }
        }
      }
    }
  },
  "cells": [
    {
      "cell_type": "code",
      "metadata": {
        "id": "fE9L_Rr8pWtR"
      },
      "source": [
        "# Code snippet 1\n",
        "# Installing AI based ML package\n",
        "!pip install -U --pre pycaret"
      ],
      "execution_count": null,
      "outputs": []
    },
    {
      "cell_type": "code",
      "metadata": {
        "id": "KOm4DWhcSp8n"
      },
      "source": [
        "# Code snippet 2 - Getting the dataset from web server\n",
        "url = 'https://raw.githubusercontent.com/nvamsimohan/DallasDSA/main/HR%20Attrition%20Dataset.csv'"
      ],
      "execution_count": null,
      "outputs": []
    },
    {
      "cell_type": "code",
      "metadata": {
        "id": "JthSh95S77-y",
        "colab": {
          "base_uri": "https://localhost:8080/",
          "height": 505
        },
        "outputId": "bdea4b98-b823-4a7b-8619-9f7b1b6b7c0c"
      },
      "source": [
        "# Code snippet 2.1 - assigning the dataset to a variable\n",
        "import numpy as np\n",
        "import pandas as pd\n",
        "df = pd.read_csv(url)\n",
        "df"
      ],
      "execution_count": null,
      "outputs": [
        {
          "output_type": "execute_result",
          "data": {
            "text/plain": [
              "       Monthly Hours   Department  Salary  Number_of_Projects  Tenure  \\\n",
              "0                221  Engineering     Low                   4     5.0   \n",
              "1                232      Support     Low                   3     2.0   \n",
              "2                184        Sales  Medium                   3     3.0   \n",
              "3                206        Sales     Low                   4     2.0   \n",
              "4                249        Sales     Low                   3     3.0   \n",
              "...              ...          ...     ...                 ...     ...   \n",
              "14244            178           It     Low                   5     5.0   \n",
              "14245            257        Sales     Low                   3     2.0   \n",
              "14246            232      Finance  Medium                   5     5.0   \n",
              "14247            130           It  Medium                   4     3.0   \n",
              "14248            159          NaN  Medium                   3     3.0   \n",
              "\n",
              "       Filed Complaint  Recently_Promoted  Last_Evaluation  \\\n",
              "0                    0                  0             0.93   \n",
              "1                    0                  0              NaN   \n",
              "2                    0                  0             0.79   \n",
              "3                    0                  0             0.58   \n",
              "4                    0                  0             0.85   \n",
              "...                ...                ...              ...   \n",
              "14244                0                  0             0.74   \n",
              "14245                0                  0             0.64   \n",
              "14246                1                  0             0.85   \n",
              "14247                0                  0             0.76   \n",
              "14248                0                  0             0.58   \n",
              "\n",
              "       Employee_Satisfaction    Status  \n",
              "0                       0.83      Left  \n",
              "1                       0.83  Employed  \n",
              "2                       0.83  Employed  \n",
              "3                       0.42  Employed  \n",
              "4                       0.78  Employed  \n",
              "...                      ...       ...  \n",
              "14244                   0.26  Employed  \n",
              "14245                   0.87  Employed  \n",
              "14246                   0.90      Left  \n",
              "14247                   0.64  Employed  \n",
              "14248                   0.81  Employed  \n",
              "\n",
              "[14249 rows x 10 columns]"
            ],
            "text/html": [
              "\n",
              "  <div id=\"df-42336852-9e20-410c-bc32-ceed2f4fc45e\">\n",
              "    <div class=\"colab-df-container\">\n",
              "      <div>\n",
              "<style scoped>\n",
              "    .dataframe tbody tr th:only-of-type {\n",
              "        vertical-align: middle;\n",
              "    }\n",
              "\n",
              "    .dataframe tbody tr th {\n",
              "        vertical-align: top;\n",
              "    }\n",
              "\n",
              "    .dataframe thead th {\n",
              "        text-align: right;\n",
              "    }\n",
              "</style>\n",
              "<table border=\"1\" class=\"dataframe\">\n",
              "  <thead>\n",
              "    <tr style=\"text-align: right;\">\n",
              "      <th></th>\n",
              "      <th>Monthly Hours</th>\n",
              "      <th>Department</th>\n",
              "      <th>Salary</th>\n",
              "      <th>Number_of_Projects</th>\n",
              "      <th>Tenure</th>\n",
              "      <th>Filed Complaint</th>\n",
              "      <th>Recently_Promoted</th>\n",
              "      <th>Last_Evaluation</th>\n",
              "      <th>Employee_Satisfaction</th>\n",
              "      <th>Status</th>\n",
              "    </tr>\n",
              "  </thead>\n",
              "  <tbody>\n",
              "    <tr>\n",
              "      <th>0</th>\n",
              "      <td>221</td>\n",
              "      <td>Engineering</td>\n",
              "      <td>Low</td>\n",
              "      <td>4</td>\n",
              "      <td>5.0</td>\n",
              "      <td>0</td>\n",
              "      <td>0</td>\n",
              "      <td>0.93</td>\n",
              "      <td>0.83</td>\n",
              "      <td>Left</td>\n",
              "    </tr>\n",
              "    <tr>\n",
              "      <th>1</th>\n",
              "      <td>232</td>\n",
              "      <td>Support</td>\n",
              "      <td>Low</td>\n",
              "      <td>3</td>\n",
              "      <td>2.0</td>\n",
              "      <td>0</td>\n",
              "      <td>0</td>\n",
              "      <td>NaN</td>\n",
              "      <td>0.83</td>\n",
              "      <td>Employed</td>\n",
              "    </tr>\n",
              "    <tr>\n",
              "      <th>2</th>\n",
              "      <td>184</td>\n",
              "      <td>Sales</td>\n",
              "      <td>Medium</td>\n",
              "      <td>3</td>\n",
              "      <td>3.0</td>\n",
              "      <td>0</td>\n",
              "      <td>0</td>\n",
              "      <td>0.79</td>\n",
              "      <td>0.83</td>\n",
              "      <td>Employed</td>\n",
              "    </tr>\n",
              "    <tr>\n",
              "      <th>3</th>\n",
              "      <td>206</td>\n",
              "      <td>Sales</td>\n",
              "      <td>Low</td>\n",
              "      <td>4</td>\n",
              "      <td>2.0</td>\n",
              "      <td>0</td>\n",
              "      <td>0</td>\n",
              "      <td>0.58</td>\n",
              "      <td>0.42</td>\n",
              "      <td>Employed</td>\n",
              "    </tr>\n",
              "    <tr>\n",
              "      <th>4</th>\n",
              "      <td>249</td>\n",
              "      <td>Sales</td>\n",
              "      <td>Low</td>\n",
              "      <td>3</td>\n",
              "      <td>3.0</td>\n",
              "      <td>0</td>\n",
              "      <td>0</td>\n",
              "      <td>0.85</td>\n",
              "      <td>0.78</td>\n",
              "      <td>Employed</td>\n",
              "    </tr>\n",
              "    <tr>\n",
              "      <th>...</th>\n",
              "      <td>...</td>\n",
              "      <td>...</td>\n",
              "      <td>...</td>\n",
              "      <td>...</td>\n",
              "      <td>...</td>\n",
              "      <td>...</td>\n",
              "      <td>...</td>\n",
              "      <td>...</td>\n",
              "      <td>...</td>\n",
              "      <td>...</td>\n",
              "    </tr>\n",
              "    <tr>\n",
              "      <th>14244</th>\n",
              "      <td>178</td>\n",
              "      <td>It</td>\n",
              "      <td>Low</td>\n",
              "      <td>5</td>\n",
              "      <td>5.0</td>\n",
              "      <td>0</td>\n",
              "      <td>0</td>\n",
              "      <td>0.74</td>\n",
              "      <td>0.26</td>\n",
              "      <td>Employed</td>\n",
              "    </tr>\n",
              "    <tr>\n",
              "      <th>14245</th>\n",
              "      <td>257</td>\n",
              "      <td>Sales</td>\n",
              "      <td>Low</td>\n",
              "      <td>3</td>\n",
              "      <td>2.0</td>\n",
              "      <td>0</td>\n",
              "      <td>0</td>\n",
              "      <td>0.64</td>\n",
              "      <td>0.87</td>\n",
              "      <td>Employed</td>\n",
              "    </tr>\n",
              "    <tr>\n",
              "      <th>14246</th>\n",
              "      <td>232</td>\n",
              "      <td>Finance</td>\n",
              "      <td>Medium</td>\n",
              "      <td>5</td>\n",
              "      <td>5.0</td>\n",
              "      <td>1</td>\n",
              "      <td>0</td>\n",
              "      <td>0.85</td>\n",
              "      <td>0.90</td>\n",
              "      <td>Left</td>\n",
              "    </tr>\n",
              "    <tr>\n",
              "      <th>14247</th>\n",
              "      <td>130</td>\n",
              "      <td>It</td>\n",
              "      <td>Medium</td>\n",
              "      <td>4</td>\n",
              "      <td>3.0</td>\n",
              "      <td>0</td>\n",
              "      <td>0</td>\n",
              "      <td>0.76</td>\n",
              "      <td>0.64</td>\n",
              "      <td>Employed</td>\n",
              "    </tr>\n",
              "    <tr>\n",
              "      <th>14248</th>\n",
              "      <td>159</td>\n",
              "      <td>NaN</td>\n",
              "      <td>Medium</td>\n",
              "      <td>3</td>\n",
              "      <td>3.0</td>\n",
              "      <td>0</td>\n",
              "      <td>0</td>\n",
              "      <td>0.58</td>\n",
              "      <td>0.81</td>\n",
              "      <td>Employed</td>\n",
              "    </tr>\n",
              "  </tbody>\n",
              "</table>\n",
              "<p>14249 rows × 10 columns</p>\n",
              "</div>\n",
              "      <button class=\"colab-df-convert\" onclick=\"convertToInteractive('df-42336852-9e20-410c-bc32-ceed2f4fc45e')\"\n",
              "              title=\"Convert this dataframe to an interactive table.\"\n",
              "              style=\"display:none;\">\n",
              "        \n",
              "  <svg xmlns=\"http://www.w3.org/2000/svg\" height=\"24px\"viewBox=\"0 0 24 24\"\n",
              "       width=\"24px\">\n",
              "    <path d=\"M0 0h24v24H0V0z\" fill=\"none\"/>\n",
              "    <path d=\"M18.56 5.44l.94 2.06.94-2.06 2.06-.94-2.06-.94-.94-2.06-.94 2.06-2.06.94zm-11 1L8.5 8.5l.94-2.06 2.06-.94-2.06-.94L8.5 2.5l-.94 2.06-2.06.94zm10 10l.94 2.06.94-2.06 2.06-.94-2.06-.94-.94-2.06-.94 2.06-2.06.94z\"/><path d=\"M17.41 7.96l-1.37-1.37c-.4-.4-.92-.59-1.43-.59-.52 0-1.04.2-1.43.59L10.3 9.45l-7.72 7.72c-.78.78-.78 2.05 0 2.83L4 21.41c.39.39.9.59 1.41.59.51 0 1.02-.2 1.41-.59l7.78-7.78 2.81-2.81c.8-.78.8-2.07 0-2.86zM5.41 20L4 18.59l7.72-7.72 1.47 1.35L5.41 20z\"/>\n",
              "  </svg>\n",
              "      </button>\n",
              "      \n",
              "  <style>\n",
              "    .colab-df-container {\n",
              "      display:flex;\n",
              "      flex-wrap:wrap;\n",
              "      gap: 12px;\n",
              "    }\n",
              "\n",
              "    .colab-df-convert {\n",
              "      background-color: #E8F0FE;\n",
              "      border: none;\n",
              "      border-radius: 50%;\n",
              "      cursor: pointer;\n",
              "      display: none;\n",
              "      fill: #1967D2;\n",
              "      height: 32px;\n",
              "      padding: 0 0 0 0;\n",
              "      width: 32px;\n",
              "    }\n",
              "\n",
              "    .colab-df-convert:hover {\n",
              "      background-color: #E2EBFA;\n",
              "      box-shadow: 0px 1px 2px rgba(60, 64, 67, 0.3), 0px 1px 3px 1px rgba(60, 64, 67, 0.15);\n",
              "      fill: #174EA6;\n",
              "    }\n",
              "\n",
              "    [theme=dark] .colab-df-convert {\n",
              "      background-color: #3B4455;\n",
              "      fill: #D2E3FC;\n",
              "    }\n",
              "\n",
              "    [theme=dark] .colab-df-convert:hover {\n",
              "      background-color: #434B5C;\n",
              "      box-shadow: 0px 1px 3px 1px rgba(0, 0, 0, 0.15);\n",
              "      filter: drop-shadow(0px 1px 2px rgba(0, 0, 0, 0.3));\n",
              "      fill: #FFFFFF;\n",
              "    }\n",
              "  </style>\n",
              "\n",
              "      <script>\n",
              "        const buttonEl =\n",
              "          document.querySelector('#df-42336852-9e20-410c-bc32-ceed2f4fc45e button.colab-df-convert');\n",
              "        buttonEl.style.display =\n",
              "          google.colab.kernel.accessAllowed ? 'block' : 'none';\n",
              "\n",
              "        async function convertToInteractive(key) {\n",
              "          const element = document.querySelector('#df-42336852-9e20-410c-bc32-ceed2f4fc45e');\n",
              "          const dataTable =\n",
              "            await google.colab.kernel.invokeFunction('convertToInteractive',\n",
              "                                                     [key], {});\n",
              "          if (!dataTable) return;\n",
              "\n",
              "          const docLinkHtml = 'Like what you see? Visit the ' +\n",
              "            '<a target=\"_blank\" href=https://colab.research.google.com/notebooks/data_table.ipynb>data table notebook</a>'\n",
              "            + ' to learn more about interactive tables.';\n",
              "          element.innerHTML = '';\n",
              "          dataTable['output_type'] = 'display_data';\n",
              "          await google.colab.output.renderOutput(dataTable, element);\n",
              "          const docLink = document.createElement('div');\n",
              "          docLink.innerHTML = docLinkHtml;\n",
              "          element.appendChild(docLink);\n",
              "        }\n",
              "      </script>\n",
              "    </div>\n",
              "  </div>\n",
              "  "
            ]
          },
          "metadata": {},
          "execution_count": 5
        }
      ]
    },
    {
      "cell_type": "code",
      "source": [
        "# Code snippet 3\n",
        "# Checking the column names\n",
        "df.columns"
      ],
      "metadata": {
        "id": "qF58VZLegAGH",
        "colab": {
          "base_uri": "https://localhost:8080/"
        },
        "outputId": "46dc4a3f-ac00-4ec7-e310-2c45f9bb418f"
      },
      "execution_count": null,
      "outputs": [
        {
          "output_type": "execute_result",
          "data": {
            "text/plain": [
              "Index(['Monthly Hours', 'Department', 'Salary', 'Number_of_Projects', 'Tenure',\n",
              "       'Filed Complaint', 'Recently_Promoted', 'Last_Evaluation',\n",
              "       'Employee_Satisfaction', 'Status'],\n",
              "      dtype='object')"
            ]
          },
          "metadata": {},
          "execution_count": 6
        }
      ]
    },
    {
      "cell_type": "code",
      "metadata": {
        "id": "bkyKn47jSqg8",
        "colab": {
          "base_uri": "https://localhost:8080/"
        },
        "outputId": "a1b7f75f-85a0-40f5-8346-459b345fd923"
      },
      "source": [
        "# Code snippet 4\n",
        "# Checking the null values list and counts\n",
        "df.isnull().sum()"
      ],
      "execution_count": null,
      "outputs": [
        {
          "output_type": "execute_result",
          "data": {
            "text/plain": [
              "Monthly Hours               0\n",
              "Department                709\n",
              "Salary                      0\n",
              "Number_of_Projects          0\n",
              "Tenure                    181\n",
              "Filed Complaint             0\n",
              "Recently_Promoted           0\n",
              "Last_Evaluation          1532\n",
              "Employee_Satisfaction     181\n",
              "Status                      0\n",
              "dtype: int64"
            ]
          },
          "metadata": {},
          "execution_count": 7
        }
      ]
    },
    {
      "cell_type": "code",
      "source": [
        "# Code snippet 4.1 - Setting numerical, categorical features\n",
        "num_cols=['Monthly Hours','Last_Evaluation','Number_of_Projects','Employee_Satisfaction','Tenure']\n",
        "cat_cols=['Department','Salary']"
      ],
      "metadata": {
        "id": "gNCjsQ_HdpNx"
      },
      "execution_count": null,
      "outputs": []
    },
    {
      "cell_type": "code",
      "metadata": {
        "id": "nc2lnEKhpcDM",
        "colab": {
          "base_uri": "https://localhost:8080/"
        },
        "outputId": "6f8de30b-ec3d-4748-9620-aca14e436dca"
      },
      "source": [
        "# Code snippet 5\n",
        "#To import all Classification related Pycaret libraries\n",
        "from pycaret.classification import *"
      ],
      "execution_count": null,
      "outputs": [
        {
          "output_type": "stream",
          "name": "stderr",
          "text": [
            "WARNING:logs:No module named 'cuml'.\n",
            "'cuml' is a soft dependency and not included in the pycaret installation. Please run: `pip install cuml` to install.\n",
            "WARNING:logs:No module named 'cuml'.\n",
            "'cuml' is a soft dependency and not included in the pycaret installation. Please run: `pip install cuml` to install.\n",
            "WARNING:logs:No module named 'cuml'.\n",
            "'cuml' is a soft dependency and not included in the pycaret installation. Please run: `pip install cuml` to install.\n",
            "WARNING:logs:No module named 'cuml'.\n",
            "'cuml' is a soft dependency and not included in the pycaret installation. Please run: `pip install cuml` to install.\n"
          ]
        }
      ]
    },
    {
      "cell_type": "code",
      "metadata": {
        "id": "k3yKdoxHpgMw"
      },
      "source": [
        "# Code snippet 6\n",
        "# Setting up the classification ML experiment\n",
        "classification_model_setup = setup(df,  target = 'Status', \n",
        "                                   categorical_features= cat_cols, \n",
        "                                   numeric_features=num_cols)"
      ],
      "execution_count": null,
      "outputs": []
    },
    {
      "cell_type": "code",
      "metadata": {
        "id": "e5Ivvpexph5R"
      },
      "source": [
        "# Code snippet 7\n",
        "# Running the multiple algorithms\n",
        "compare_models(budget_time=3)"
      ],
      "execution_count": null,
      "outputs": []
    },
    {
      "cell_type": "code",
      "metadata": {
        "id": "w70gUhiCpjkm",
        "colab": {
          "base_uri": "https://localhost:8080/",
          "height": 928,
          "referenced_widgets": [
            "ca5d97d967d64dcd8e299d5429b301f2",
            "e0679c846b654e1ca2e3ee9674945f46",
            "ad8fc7d87dba414c82f0bf7a8823b22d",
            "fbed05fcc9b14627b57ed2e3fb3d9af4",
            "b1aa89baecbc45fa92103ac4e136a379",
            "1accd8ffc06842508794175b6755be61",
            "7b89c618bdd8430081816ad0b221e212",
            "5879d149a12445faa89ce2edd4f6630c",
            "0c4a099b9d2f43f6a51e1b361797d685",
            "ed5c4e8943e8461a9bbfb74051b93775",
            "4f464a0cdbcb4ec5b481363e403e1079"
          ]
        },
        "outputId": "bd4430b1-6548-4787-b1bc-de3ab64d4bb0"
      },
      "source": [
        "# Code snippet 8\n",
        "# Creating the model with the best algorithm based on the above results\n",
        "model = create_model('et')"
      ],
      "execution_count": null,
      "outputs": [
        {
          "output_type": "stream",
          "name": "stderr",
          "text": [
            "INFO:logs:Initializing create_model()\n",
            "INFO:logs:create_model(self=<pycaret.classification.oop.ClassificationExperiment object at 0x7f12cafbbf10>, estimator=et, fold=None, round=4, cross_validation=True, predict=True, fit_kwargs=None, groups=None, refit=True, probability_threshold=None, experiment_custom_tags=None, verbose=True, system=True, add_to_model_list=True, metrics=None, display=None, model_only=True, return_train_score=False, kwargs={})\n",
            "INFO:logs:Checking exceptions\n"
          ]
        },
        {
          "output_type": "display_data",
          "data": {
            "text/plain": [
              "<IPython.core.display.HTML object>"
            ],
            "text/html": [
              ""
            ]
          },
          "metadata": {}
        },
        {
          "output_type": "display_data",
          "data": {
            "text/plain": [
              "<pandas.io.formats.style.Styler at 0x7f12bfa67150>"
            ],
            "text/html": [
              "<style type=\"text/css\">\n",
              "#T_c4f34_row10_col0, #T_c4f34_row10_col1, #T_c4f34_row10_col2, #T_c4f34_row10_col3, #T_c4f34_row10_col4, #T_c4f34_row10_col5, #T_c4f34_row10_col6 {\n",
              "  background: yellow;\n",
              "}\n",
              "</style>\n",
              "<table id=\"T_c4f34_\" class=\"dataframe\">\n",
              "  <thead>\n",
              "    <tr>\n",
              "      <th class=\"blank level0\" >&nbsp;</th>\n",
              "      <th class=\"col_heading level0 col0\" >Accuracy</th>\n",
              "      <th class=\"col_heading level0 col1\" >AUC</th>\n",
              "      <th class=\"col_heading level0 col2\" >Recall</th>\n",
              "      <th class=\"col_heading level0 col3\" >Prec.</th>\n",
              "      <th class=\"col_heading level0 col4\" >F1</th>\n",
              "      <th class=\"col_heading level0 col5\" >Kappa</th>\n",
              "      <th class=\"col_heading level0 col6\" >MCC</th>\n",
              "    </tr>\n",
              "    <tr>\n",
              "      <th class=\"index_name level0\" >Fold</th>\n",
              "      <th class=\"blank col0\" >&nbsp;</th>\n",
              "      <th class=\"blank col1\" >&nbsp;</th>\n",
              "      <th class=\"blank col2\" >&nbsp;</th>\n",
              "      <th class=\"blank col3\" >&nbsp;</th>\n",
              "      <th class=\"blank col4\" >&nbsp;</th>\n",
              "      <th class=\"blank col5\" >&nbsp;</th>\n",
              "      <th class=\"blank col6\" >&nbsp;</th>\n",
              "    </tr>\n",
              "  </thead>\n",
              "  <tbody>\n",
              "    <tr>\n",
              "      <th id=\"T_c4f34_level0_row0\" class=\"row_heading level0 row0\" >0</th>\n",
              "      <td id=\"T_c4f34_row0_col0\" class=\"data row0 col0\" >0.9679</td>\n",
              "      <td id=\"T_c4f34_row0_col1\" class=\"data row0 col1\" >0.9897</td>\n",
              "      <td id=\"T_c4f34_row0_col2\" class=\"data row0 col2\" >0.9076</td>\n",
              "      <td id=\"T_c4f34_row0_col3\" class=\"data row0 col3\" >0.9558</td>\n",
              "      <td id=\"T_c4f34_row0_col4\" class=\"data row0 col4\" >0.9310</td>\n",
              "      <td id=\"T_c4f34_row0_col5\" class=\"data row0 col5\" >0.9102</td>\n",
              "      <td id=\"T_c4f34_row0_col6\" class=\"data row0 col6\" >0.9107</td>\n",
              "    </tr>\n",
              "    <tr>\n",
              "      <th id=\"T_c4f34_level0_row1\" class=\"row_heading level0 row1\" >1</th>\n",
              "      <td id=\"T_c4f34_row1_col0\" class=\"data row1 col0\" >0.9800</td>\n",
              "      <td id=\"T_c4f34_row1_col1\" class=\"data row1 col1\" >0.9932</td>\n",
              "      <td id=\"T_c4f34_row1_col2\" class=\"data row1 col2\" >0.9286</td>\n",
              "      <td id=\"T_c4f34_row1_col3\" class=\"data row1 col3\" >0.9866</td>\n",
              "      <td id=\"T_c4f34_row1_col4\" class=\"data row1 col4\" >0.9567</td>\n",
              "      <td id=\"T_c4f34_row1_col5\" class=\"data row1 col5\" >0.9437</td>\n",
              "      <td id=\"T_c4f34_row1_col6\" class=\"data row1 col6\" >0.9444</td>\n",
              "    </tr>\n",
              "    <tr>\n",
              "      <th id=\"T_c4f34_level0_row2\" class=\"row_heading level0 row2\" >2</th>\n",
              "      <td id=\"T_c4f34_row2_col0\" class=\"data row2 col0\" >0.9729</td>\n",
              "      <td id=\"T_c4f34_row2_col1\" class=\"data row2 col1\" >0.9803</td>\n",
              "      <td id=\"T_c4f34_row2_col2\" class=\"data row2 col2\" >0.8992</td>\n",
              "      <td id=\"T_c4f34_row2_col3\" class=\"data row2 col3\" >0.9862</td>\n",
              "      <td id=\"T_c4f34_row2_col4\" class=\"data row2 col4\" >0.9407</td>\n",
              "      <td id=\"T_c4f34_row2_col5\" class=\"data row2 col5\" >0.9232</td>\n",
              "      <td id=\"T_c4f34_row2_col6\" class=\"data row2 col6\" >0.9248</td>\n",
              "    </tr>\n",
              "    <tr>\n",
              "      <th id=\"T_c4f34_level0_row3\" class=\"row_heading level0 row3\" >3</th>\n",
              "      <td id=\"T_c4f34_row3_col0\" class=\"data row3 col0\" >0.9780</td>\n",
              "      <td id=\"T_c4f34_row3_col1\" class=\"data row3 col1\" >0.9822</td>\n",
              "      <td id=\"T_c4f34_row3_col2\" class=\"data row3 col2\" >0.9202</td>\n",
              "      <td id=\"T_c4f34_row3_col3\" class=\"data row3 col3\" >0.9865</td>\n",
              "      <td id=\"T_c4f34_row3_col4\" class=\"data row3 col4\" >0.9522</td>\n",
              "      <td id=\"T_c4f34_row3_col5\" class=\"data row3 col5\" >0.9379</td>\n",
              "      <td id=\"T_c4f34_row3_col6\" class=\"data row3 col6\" >0.9388</td>\n",
              "    </tr>\n",
              "    <tr>\n",
              "      <th id=\"T_c4f34_level0_row4\" class=\"row_heading level0 row4\" >4</th>\n",
              "      <td id=\"T_c4f34_row4_col0\" class=\"data row4 col0\" >0.9789</td>\n",
              "      <td id=\"T_c4f34_row4_col1\" class=\"data row4 col1\" >0.9853</td>\n",
              "      <td id=\"T_c4f34_row4_col2\" class=\"data row4 col2\" >0.9283</td>\n",
              "      <td id=\"T_c4f34_row4_col3\" class=\"data row4 col3\" >0.9821</td>\n",
              "      <td id=\"T_c4f34_row4_col4\" class=\"data row4 col4\" >0.9544</td>\n",
              "      <td id=\"T_c4f34_row4_col5\" class=\"data row4 col5\" >0.9408</td>\n",
              "      <td id=\"T_c4f34_row4_col6\" class=\"data row4 col6\" >0.9414</td>\n",
              "    </tr>\n",
              "    <tr>\n",
              "      <th id=\"T_c4f34_level0_row5\" class=\"row_heading level0 row5\" >5</th>\n",
              "      <td id=\"T_c4f34_row5_col0\" class=\"data row5 col0\" >0.9799</td>\n",
              "      <td id=\"T_c4f34_row5_col1\" class=\"data row5 col1\" >0.9897</td>\n",
              "      <td id=\"T_c4f34_row5_col2\" class=\"data row5 col2\" >0.9409</td>\n",
              "      <td id=\"T_c4f34_row5_col3\" class=\"data row5 col3\" >0.9738</td>\n",
              "      <td id=\"T_c4f34_row5_col4\" class=\"data row5 col4\" >0.9571</td>\n",
              "      <td id=\"T_c4f34_row5_col5\" class=\"data row5 col5\" >0.9440</td>\n",
              "      <td id=\"T_c4f34_row5_col6\" class=\"data row5 col6\" >0.9442</td>\n",
              "    </tr>\n",
              "    <tr>\n",
              "      <th id=\"T_c4f34_level0_row6\" class=\"row_heading level0 row6\" >6</th>\n",
              "      <td id=\"T_c4f34_row6_col0\" class=\"data row6 col0\" >0.9749</td>\n",
              "      <td id=\"T_c4f34_row6_col1\" class=\"data row6 col1\" >0.9813</td>\n",
              "      <td id=\"T_c4f34_row6_col2\" class=\"data row6 col2\" >0.9241</td>\n",
              "      <td id=\"T_c4f34_row6_col3\" class=\"data row6 col3\" >0.9690</td>\n",
              "      <td id=\"T_c4f34_row6_col4\" class=\"data row6 col4\" >0.9460</td>\n",
              "      <td id=\"T_c4f34_row6_col5\" class=\"data row6 col5\" >0.9297</td>\n",
              "      <td id=\"T_c4f34_row6_col6\" class=\"data row6 col6\" >0.9301</td>\n",
              "    </tr>\n",
              "    <tr>\n",
              "      <th id=\"T_c4f34_level0_row7\" class=\"row_heading level0 row7\" >7</th>\n",
              "      <td id=\"T_c4f34_row7_col0\" class=\"data row7 col0\" >0.9819</td>\n",
              "      <td id=\"T_c4f34_row7_col1\" class=\"data row7 col1\" >0.9955</td>\n",
              "      <td id=\"T_c4f34_row7_col2\" class=\"data row7 col2\" >0.9451</td>\n",
              "      <td id=\"T_c4f34_row7_col3\" class=\"data row7 col3\" >0.9782</td>\n",
              "      <td id=\"T_c4f34_row7_col4\" class=\"data row7 col4\" >0.9614</td>\n",
              "      <td id=\"T_c4f34_row7_col5\" class=\"data row7 col5\" >0.9496</td>\n",
              "      <td id=\"T_c4f34_row7_col6\" class=\"data row7 col6\" >0.9498</td>\n",
              "    </tr>\n",
              "    <tr>\n",
              "      <th id=\"T_c4f34_level0_row8\" class=\"row_heading level0 row8\" >8</th>\n",
              "      <td id=\"T_c4f34_row8_col0\" class=\"data row8 col0\" >0.9739</td>\n",
              "      <td id=\"T_c4f34_row8_col1\" class=\"data row8 col1\" >0.9851</td>\n",
              "      <td id=\"T_c4f34_row8_col2\" class=\"data row8 col2\" >0.9367</td>\n",
              "      <td id=\"T_c4f34_row8_col3\" class=\"data row8 col3\" >0.9528</td>\n",
              "      <td id=\"T_c4f34_row8_col4\" class=\"data row8 col4\" >0.9447</td>\n",
              "      <td id=\"T_c4f34_row8_col5\" class=\"data row8 col5\" >0.9276</td>\n",
              "      <td id=\"T_c4f34_row8_col6\" class=\"data row8 col6\" >0.9277</td>\n",
              "    </tr>\n",
              "    <tr>\n",
              "      <th id=\"T_c4f34_level0_row9\" class=\"row_heading level0 row9\" >9</th>\n",
              "      <td id=\"T_c4f34_row9_col0\" class=\"data row9 col0\" >0.9799</td>\n",
              "      <td id=\"T_c4f34_row9_col1\" class=\"data row9 col1\" >0.9897</td>\n",
              "      <td id=\"T_c4f34_row9_col2\" class=\"data row9 col2\" >0.9283</td>\n",
              "      <td id=\"T_c4f34_row9_col3\" class=\"data row9 col3\" >0.9865</td>\n",
              "      <td id=\"T_c4f34_row9_col4\" class=\"data row9 col4\" >0.9565</td>\n",
              "      <td id=\"T_c4f34_row9_col5\" class=\"data row9 col5\" >0.9435</td>\n",
              "      <td id=\"T_c4f34_row9_col6\" class=\"data row9 col6\" >0.9442</td>\n",
              "    </tr>\n",
              "    <tr>\n",
              "      <th id=\"T_c4f34_level0_row10\" class=\"row_heading level0 row10\" >Mean</th>\n",
              "      <td id=\"T_c4f34_row10_col0\" class=\"data row10 col0\" >0.9768</td>\n",
              "      <td id=\"T_c4f34_row10_col1\" class=\"data row10 col1\" >0.9872</td>\n",
              "      <td id=\"T_c4f34_row10_col2\" class=\"data row10 col2\" >0.9259</td>\n",
              "      <td id=\"T_c4f34_row10_col3\" class=\"data row10 col3\" >0.9757</td>\n",
              "      <td id=\"T_c4f34_row10_col4\" class=\"data row10 col4\" >0.9501</td>\n",
              "      <td id=\"T_c4f34_row10_col5\" class=\"data row10 col5\" >0.9350</td>\n",
              "      <td id=\"T_c4f34_row10_col6\" class=\"data row10 col6\" >0.9356</td>\n",
              "    </tr>\n",
              "    <tr>\n",
              "      <th id=\"T_c4f34_level0_row11\" class=\"row_heading level0 row11\" >Std</th>\n",
              "      <td id=\"T_c4f34_row11_col0\" class=\"data row11 col0\" >0.0041</td>\n",
              "      <td id=\"T_c4f34_row11_col1\" class=\"data row11 col1\" >0.0049</td>\n",
              "      <td id=\"T_c4f34_row11_col2\" class=\"data row11 col2\" >0.0135</td>\n",
              "      <td id=\"T_c4f34_row11_col3\" class=\"data row11 col3\" >0.0122</td>\n",
              "      <td id=\"T_c4f34_row11_col4\" class=\"data row11 col4\" >0.0088</td>\n",
              "      <td id=\"T_c4f34_row11_col5\" class=\"data row11 col5\" >0.0115</td>\n",
              "      <td id=\"T_c4f34_row11_col6\" class=\"data row11 col6\" >0.0114</td>\n",
              "    </tr>\n",
              "  </tbody>\n",
              "</table>\n"
            ]
          },
          "metadata": {}
        },
        {
          "output_type": "display_data",
          "data": {
            "text/plain": [
              "Processing:   0%|          | 0/4 [00:00<?, ?it/s]"
            ],
            "application/vnd.jupyter.widget-view+json": {
              "version_major": 2,
              "version_minor": 0,
              "model_id": "ca5d97d967d64dcd8e299d5429b301f2"
            }
          },
          "metadata": {
            "application/vnd.jupyter.widget-view+json": {
              "colab": {
                "custom_widget_manager": {
                  "url": "https://ssl.gstatic.com/colaboratory-static/widgets/colab-cdn-widget-manager/d2e234f7cc04bf79/manager.min.js"
                }
              }
            }
          }
        },
        {
          "output_type": "stream",
          "name": "stderr",
          "text": [
            "INFO:logs:Importing libraries\n",
            "INFO:logs:Copying training dataset\n",
            "INFO:logs:Defining folds\n",
            "INFO:logs:Declaring metric variables\n",
            "INFO:logs:Importing untrained model\n",
            "INFO:logs:Extra Trees Classifier Imported successfully\n",
            "INFO:logs:Starting cross validation\n",
            "INFO:logs:Cross validating with StratifiedKFold(n_splits=10, random_state=None, shuffle=False), n_jobs=-1\n",
            "INFO:logs:Calculating mean and std\n",
            "INFO:logs:Creating metrics dataframe\n",
            "INFO:logs:Finalizing model\n"
          ]
        },
        {
          "output_type": "display_data",
          "data": {
            "text/plain": [
              "<IPython.core.display.HTML object>"
            ],
            "text/html": [
              ""
            ]
          },
          "metadata": {}
        },
        {
          "output_type": "stream",
          "name": "stderr",
          "text": [
            "INFO:logs:Uploading results into container\n",
            "INFO:logs:Uploading model into container now\n",
            "INFO:logs:master_model_container: 15\n",
            "INFO:logs:display_container: 3\n",
            "INFO:logs:ExtraTreesClassifier(bootstrap=False, ccp_alpha=0.0, class_weight=None,\n",
            "                     criterion='gini', max_depth=None, max_features='auto',\n",
            "                     max_leaf_nodes=None, max_samples=None,\n",
            "                     min_impurity_decrease=0.0, min_samples_leaf=1,\n",
            "                     min_samples_split=2, min_weight_fraction_leaf=0.0,\n",
            "                     n_estimators=100, n_jobs=-1, oob_score=False,\n",
            "                     random_state=2784, verbose=0, warm_start=False)\n",
            "INFO:logs:create_model() successfully completed......................................\n"
          ]
        }
      ]
    },
    {
      "cell_type": "code",
      "source": [
        "# Code snippet 9\n",
        "# Building the confusion matrix \n",
        "plot_model(model, plot = 'confusion_matrix')"
      ],
      "metadata": {
        "id": "eStVjmxUz2i6",
        "colab": {
          "base_uri": "https://localhost:8080/",
          "height": 647
        },
        "outputId": "c3c3d747-4e5b-414b-d42a-f7c23a4b2a76"
      },
      "execution_count": null,
      "outputs": [
        {
          "output_type": "stream",
          "name": "stderr",
          "text": [
            "INFO:logs:Initializing plot_model()\n",
            "INFO:logs:plot_model(plot=confusion_matrix, fold=None, use_train_data=False, verbose=True, display=None, display_format=None, estimator=ExtraTreesClassifier(bootstrap=False, ccp_alpha=0.0, class_weight=None,\n",
            "                     criterion='gini', max_depth=None, max_features='auto',\n",
            "                     max_leaf_nodes=None, max_samples=None,\n",
            "                     min_impurity_decrease=0.0, min_samples_leaf=1,\n",
            "                     min_samples_split=2, min_weight_fraction_leaf=0.0,\n",
            "                     n_estimators=100, n_jobs=-1, oob_score=False,\n",
            "                     random_state=2784, verbose=0, warm_start=False), feature_name=None, fit_kwargs=None, groups=None, label=False, plot_kwargs=None, save=False, scale=1, self=<pycaret.classification.oop.ClassificationExperiment object at 0x7f12cafbbf10>, system=True)\n",
            "INFO:logs:Checking exceptions\n"
          ]
        },
        {
          "output_type": "display_data",
          "data": {
            "text/plain": [
              "<IPython.core.display.HTML object>"
            ],
            "text/html": [
              ""
            ]
          },
          "metadata": {}
        },
        {
          "output_type": "stream",
          "name": "stderr",
          "text": [
            "INFO:logs:Preloading libraries\n",
            "INFO:logs:Copying training dataset\n",
            "INFO:logs:Plot type: confusion_matrix\n",
            "INFO:logs:Fitting Model\n",
            "WARNING:logs:/usr/local/lib/python3.7/dist-packages/sklearn/base.py:451: UserWarning: X does not have valid feature names, but ExtraTreesClassifier was fitted with feature names\n",
            "  \"X does not have valid feature names, but\"\n",
            "\n",
            "INFO:logs:Scoring test/hold-out set\n"
          ]
        },
        {
          "output_type": "display_data",
          "data": {
            "text/plain": [
              "<Figure size 432x288 with 1 Axes>"
            ],
            "image/png": "[encoded data removed]"
          },
          "metadata": {
            "needs_background": "light"
          }
        },
        {
          "output_type": "stream",
          "name": "stderr",
          "text": [
            "INFO:logs:Visual Rendered Successfully\n",
            "INFO:logs:plot_model() successfully completed......................................\n"
          ]
        }
      ]
    },
    {
      "cell_type": "code",
      "source": [
        "# Code snippet 10\n",
        "# Building the confusion matrix with proportions\n",
        "plot_model(model, plot = 'confusion_matrix', plot_kwargs= {'percent': True})"
      ],
      "metadata": {
        "id": "bJAowWVx0qoW",
        "colab": {
          "base_uri": "https://localhost:8080/",
          "height": 647
        },
        "outputId": "92c2bee6-8feb-4e34-a216-57e44a967d8e"
      },
      "execution_count": null,
      "outputs": [
        {
          "output_type": "stream",
          "name": "stderr",
          "text": [
            "INFO:logs:Initializing plot_model()\n",
            "INFO:logs:plot_model(plot=confusion_matrix, fold=None, use_train_data=False, verbose=True, display=None, display_format=None, estimator=ExtraTreesClassifier(bootstrap=False, ccp_alpha=0.0, class_weight=None,\n",
            "                     criterion='gini', max_depth=None, max_features='auto',\n",
            "                     max_leaf_nodes=None, max_samples=None,\n",
            "                     min_impurity_decrease=0.0, min_samples_leaf=1,\n",
            "                     min_samples_split=2, min_weight_fraction_leaf=0.0,\n",
            "                     n_estimators=100, n_jobs=-1, oob_score=False,\n",
            "                     random_state=2784, verbose=0, warm_start=False), feature_name=None, fit_kwargs=None, groups=None, label=False, plot_kwargs={'percent': True}, save=False, scale=1, self=<pycaret.classification.oop.ClassificationExperiment object at 0x7f12cafbbf10>, system=True)\n",
            "INFO:logs:Checking exceptions\n"
          ]
        },
        {
          "output_type": "display_data",
          "data": {
            "text/plain": [
              "<IPython.core.display.HTML object>"
            ],
            "text/html": [
              ""
            ]
          },
          "metadata": {}
        },
        {
          "output_type": "stream",
          "name": "stderr",
          "text": [
            "INFO:logs:Preloading libraries\n",
            "INFO:logs:Copying training dataset\n",
            "INFO:logs:Plot type: confusion_matrix\n",
            "INFO:logs:Fitting Model\n",
            "WARNING:logs:/usr/local/lib/python3.7/dist-packages/sklearn/base.py:451: UserWarning: X does not have valid feature names, but ExtraTreesClassifier was fitted with feature names\n",
            "  \"X does not have valid feature names, but\"\n",
            "\n",
            "INFO:logs:Scoring test/hold-out set\n"
          ]
        },
        {
          "output_type": "display_data",
          "data": {
            "text/plain": [
              "<Figure size 432x288 with 1 Axes>"
            ],
            "image/png": "[encoded data removed]"
          },
          "metadata": {
            "needs_background": "light"
          }
        },
        {
          "output_type": "stream",
          "name": "stderr",
          "text": [
            "INFO:logs:Visual Rendered Successfully\n",
            "INFO:logs:plot_model() successfully completed......................................\n"
          ]
        }
      ]
    },
    {
      "cell_type": "code",
      "metadata": {
        "id": "22mv8lOt9CYR"
      },
      "source": [
        "# Code snippet 11\n",
        "# Loading the Client dataset for which predictions to be made\n",
        "url1 = 'https://raw.githubusercontent.com/nvamsimohan/DallasDSA/main/HR%20Attrition%20Client%20Data.csv'\n",
        "pred_data = pd.read_csv(url1)"
      ],
      "execution_count": null,
      "outputs": []
    },
    {
      "cell_type": "code",
      "source": [
        "pred_data.columns"
      ],
      "metadata": {
        "id": "-EgBvLG2KeQP",
        "outputId": "8283ec9b-e6d3-4f43-e6a3-4eaca8dddd37",
        "colab": {
          "base_uri": "https://localhost:8080/"
        }
      },
      "execution_count": null,
      "outputs": [
        {
          "output_type": "execute_result",
          "data": {
            "text/plain": [
              "Index(['Monthly Hours', 'Department', 'Salary', 'Number_of_Projects', 'Tenure',\n",
              "       'Filed Complaint', 'Recently_Promoted', 'Last_Evaluation',\n",
              "       'Employee_Satisfaction'],\n",
              "      dtype='object')"
            ]
          },
          "metadata": {},
          "execution_count": 19
        }
      ]
    },
    {
      "cell_type": "code",
      "source": [
        "# Code snippet 12 - checking the data size of the client data set\n",
        "pred_data.shape"
      ],
      "metadata": {
        "id": "aABqqZsK55TC",
        "colab": {
          "base_uri": "https://localhost:8080/"
        },
        "outputId": "8e3a7a53-6910-4042-c67a-68610e4c0d26"
      },
      "execution_count": null,
      "outputs": [
        {
          "output_type": "execute_result",
          "data": {
            "text/plain": [
              "(199, 9)"
            ]
          },
          "metadata": {},
          "execution_count": 16
        }
      ]
    },
    {
      "cell_type": "code",
      "metadata": {
        "id": "KPmZyPRO9Id_",
        "colab": {
          "base_uri": "https://localhost:8080/",
          "height": 228
        },
        "outputId": "bf61f769-eb34-4eff-a813-4ad1c88771d1"
      },
      "source": [
        "# Code snippet 13\n",
        "# Predicting the values using the best model\n",
        "predictions = predict_model(model, data = pred_data)"
      ],
      "execution_count": null,
      "outputs": [
        {
          "output_type": "stream",
          "name": "stderr",
          "text": [
            "INFO:logs:Initializing predict_model()\n",
            "INFO:logs:predict_model(self=<pycaret.classification.oop.ClassificationExperiment object at 0x7f12cafbbf10>, estimator=ExtraTreesClassifier(bootstrap=False, ccp_alpha=0.0, class_weight=None,\n",
            "                     criterion='gini', max_depth=None, max_features='auto',\n",
            "                     max_leaf_nodes=None, max_samples=None,\n",
            "                     min_impurity_decrease=0.0, min_samples_leaf=1,\n",
            "                     min_samples_split=2, min_weight_fraction_leaf=0.0,\n",
            "                     n_estimators=100, n_jobs=-1, oob_score=False,\n",
            "                     random_state=2784, verbose=0, warm_start=False), probability_threshold=None, encoded_labels=False, raw_score=False, drift_report=False, round=4, verbose=True, ml_usecase=None, preprocess=True, replace_labels_in_column=<function _SupervisedExperiment.predict_model.<locals>.replace_labels_in_column at 0x7f12bf822680>)\n",
            "INFO:logs:Checking exceptions\n",
            "INFO:logs:Preloading libraries\n"
          ]
        },
        {
          "output_type": "display_data",
          "data": {
            "text/plain": [
              "<IPython.core.display.HTML object>"
            ],
            "text/html": [
              ""
            ]
          },
          "metadata": {}
        },
        {
          "output_type": "stream",
          "name": "stderr",
          "text": [
            "INFO:logs:Set up data.\n"
          ]
        }
      ]
    },
    {
      "cell_type": "code",
      "metadata": {
        "id": "uRd3e8CH9MMr"
      },
      "source": [
        "# Code snippet 14\n",
        "# Converting predictions dataframe to csv\n",
        "predictions.to_csv(\"Employee Status Predictions.csv\")"
      ],
      "execution_count": null,
      "outputs": []
    }
  ]
}