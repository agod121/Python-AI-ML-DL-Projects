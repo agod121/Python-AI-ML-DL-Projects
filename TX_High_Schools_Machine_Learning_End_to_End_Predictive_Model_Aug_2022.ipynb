{
  "nbformat": 4,
  "nbformat_minor": 0,
  "metadata": {
    "colab": {
      "name": "TX_High_Schools_Machine_Learning_End_to_End_Predictive_Model_Aug_2022.ipynb",
      "provenance": [],
      "collapsed_sections": []
    },
    "kernelspec": {
      "name": "python3",
      "display_name": "Python 3"
    },
    "language_info": {
      "name": "python"
    },
    "widgets": {
      "application/vnd.jupyter.widget-state+json": {
        "ff10f8f8d36645989841fdf119037daf": {
          "model_module": "@jupyter-widgets/controls",
          "model_name": "HBoxModel",
          "model_module_version": "1.5.0",
          "state": {
            "_dom_classes": [],
            "_model_module": "@jupyter-widgets/controls",
            "_model_module_version": "1.5.0",
            "_model_name": "HBoxModel",
            "_view_count": null,
            "_view_module": "@jupyter-widgets/controls",
            "_view_module_version": "1.5.0",
            "_view_name": "HBoxView",
            "box_style": "",
            "children": [
              "IPY_MODEL_585bc127fb4b4eb38474c91e298854a7",
              "IPY_MODEL_7503ced8f3c94798b3a47d0446f1893c",
              "IPY_MODEL_410ea2ed942540c2856a4ab2e034561a"
            ],
            "layout": "IPY_MODEL_45a51bb1ce024cf1b156a8fa72b3024e"
          }
        },
        "585bc127fb4b4eb38474c91e298854a7": {
          "model_module": "@jupyter-widgets/controls",
          "model_name": "HTMLModel",
          "model_module_version": "1.5.0",
          "state": {
            "_dom_classes": [],
            "_model_module": "@jupyter-widgets/controls",
            "_model_module_version": "1.5.0",
            "_model_name": "HTMLModel",
            "_view_count": null,
            "_view_module": "@jupyter-widgets/controls",
            "_view_module_version": "1.5.0",
            "_view_name": "HTMLView",
            "description": "",
            "description_tooltip": null,
            "layout": "IPY_MODEL_d757a949a3fb42d3aec9fdd8a63debe2",
            "placeholder": "​",
            "style": "IPY_MODEL_a9483bb011144186a036079e4f29136b",
            "value": "Processing: 100%"
          }
        },
        "7503ced8f3c94798b3a47d0446f1893c": {
          "model_module": "@jupyter-widgets/controls",
          "model_name": "FloatProgressModel",
          "model_module_version": "1.5.0",
          "state": {
            "_dom_classes": [],
            "_model_module": "@jupyter-widgets/controls",
            "_model_module_version": "1.5.0",
            "_model_name": "FloatProgressModel",
            "_view_count": null,
            "_view_module": "@jupyter-widgets/controls",
            "_view_module_version": "1.5.0",
            "_view_name": "ProgressView",
            "bar_style": "",
            "description": "",
            "description_tooltip": null,
            "layout": "IPY_MODEL_72b0463fc9b34afdb94f9f90c17eaff3",
            "max": 4,
            "min": 0,
            "orientation": "horizontal",
            "style": "IPY_MODEL_f1a92e82be63437fa8a536567a1c5e15",
            "value": 4
          }
        },
        "410ea2ed942540c2856a4ab2e034561a": {
          "model_module": "@jupyter-widgets/controls",
          "model_name": "HTMLModel",
          "model_module_version": "1.5.0",
          "state": {
            "_dom_classes": [],
            "_model_module": "@jupyter-widgets/controls",
            "_model_module_version": "1.5.0",
            "_model_name": "HTMLModel",
            "_view_count": null,
            "_view_module": "@jupyter-widgets/controls",
            "_view_module_version": "1.5.0",
            "_view_name": "HTMLView",
            "description": "",
            "description_tooltip": null,
            "layout": "IPY_MODEL_3b64ec55693847dcb1feed09186e822e",
            "placeholder": "​",
            "style": "IPY_MODEL_2724e3cf927640a9be50aee49c1802ff",
            "value": " 4/4 [00:06&lt;00:00,  1.42s/it]"
          }
        },
        "45a51bb1ce024cf1b156a8fa72b3024e": {
          "model_module": "@jupyter-widgets/base",
          "model_name": "LayoutModel",
          "model_module_version": "1.2.0",
          "state": {
            "_model_module": "@jupyter-widgets/base",
            "_model_module_version": "1.2.0",
            "_model_name": "LayoutModel",
            "_view_count": null,
            "_view_module": "@jupyter-widgets/base",
            "_view_module_version": "1.2.0",
            "_view_name": "LayoutView",
            "align_content": null,
            "align_items": null,
            "align_self": null,
            "border": null,
            "bottom": null,
            "display": null,
            "flex": null,
            "flex_flow": null,
            "grid_area": null,
            "grid_auto_columns": null,
            "grid_auto_flow": null,
            "grid_auto_rows": null,
            "grid_column": null,
            "grid_gap": null,
            "grid_row": null,
            "grid_template_areas": null,
            "grid_template_columns": null,
            "grid_template_rows": null,
            "height": null,
            "justify_content": null,
            "justify_items": null,
            "left": null,
            "margin": null,
            "max_height": null,
            "max_width": null,
            "min_height": null,
            "min_width": null,
            "object_fit": null,
            "object_position": null,
            "order": null,
            "overflow": null,
            "overflow_x": null,
            "overflow_y": null,
            "padding": null,
            "right": null,
            "top": null,
            "visibility": null,
            "width": null
          }
        },
        "d757a949a3fb42d3aec9fdd8a63debe2": {
          "model_module": "@jupyter-widgets/base",
          "model_name": "LayoutModel",
          "model_module_version": "1.2.0",
          "state": {
            "_model_module": "@jupyter-widgets/base",
            "_model_module_version": "1.2.0",
            "_model_name": "LayoutModel",
            "_view_count": null,
            "_view_module": "@jupyter-widgets/base",
            "_view_module_version": "1.2.0",
            "_view_name": "LayoutView",
            "align_content": null,
            "align_items": null,
            "align_self": null,
            "border": null,
            "bottom": null,
            "display": null,
            "flex": null,
            "flex_flow": null,
            "grid_area": null,
            "grid_auto_columns": null,
            "grid_auto_flow": null,
            "grid_auto_rows": null,
            "grid_column": null,
            "grid_gap": null,
            "grid_row": null,
            "grid_template_areas": null,
            "grid_template_columns": null,
            "grid_template_rows": null,
            "height": null,
            "justify_content": null,
            "justify_items": null,
            "left": null,
            "margin": null,
            "max_height": null,
            "max_width": null,
            "min_height": null,
            "min_width": null,
            "object_fit": null,
            "object_position": null,
            "order": null,
            "overflow": null,
            "overflow_x": null,
            "overflow_y": null,
            "padding": null,
            "right": null,
            "top": null,
            "visibility": null,
            "width": null
          }
        },
        "a9483bb011144186a036079e4f29136b": {
          "model_module": "@jupyter-widgets/controls",
          "model_name": "DescriptionStyleModel",
          "model_module_version": "1.5.0",
          "state": {
            "_model_module": "@jupyter-widgets/controls",
            "_model_module_version": "1.5.0",
            "_model_name": "DescriptionStyleModel",
            "_view_count": null,
            "_view_module": "@jupyter-widgets/base",
            "_view_module_version": "1.2.0",
            "_view_name": "StyleView",
            "description_width": ""
          }
        },
        "72b0463fc9b34afdb94f9f90c17eaff3": {
          "model_module": "@jupyter-widgets/base",
          "model_name": "LayoutModel",
          "model_module_version": "1.2.0",
          "state": {
            "_model_module": "@jupyter-widgets/base",
            "_model_module_version": "1.2.0",
            "_model_name": "LayoutModel",
            "_view_count": null,
            "_view_module": "@jupyter-widgets/base",
            "_view_module_version": "1.2.0",
            "_view_name": "LayoutView",
            "align_content": null,
            "align_items": null,
            "align_self": null,
            "border": null,
            "bottom": null,
            "display": null,
            "flex": null,
            "flex_flow": null,
            "grid_area": null,
            "grid_auto_columns": null,
            "grid_auto_flow": null,
            "grid_auto_rows": null,
            "grid_column": null,
            "grid_gap": null,
            "grid_row": null,
            "grid_template_areas": null,
            "grid_template_columns": null,
            "grid_template_rows": null,
            "height": null,
            "justify_content": null,
            "justify_items": null,
            "left": null,
            "margin": null,
            "max_height": null,
            "max_width": null,
            "min_height": null,
            "min_width": null,
            "object_fit": null,
            "object_position": null,
            "order": null,
            "overflow": null,
            "overflow_x": null,
            "overflow_y": null,
            "padding": null,
            "right": null,
            "top": null,
            "visibility": null,
            "width": null
          }
        },
        "f1a92e82be63437fa8a536567a1c5e15": {
          "model_module": "@jupyter-widgets/controls",
          "model_name": "ProgressStyleModel",
          "model_module_version": "1.5.0",
          "state": {
            "_model_module": "@jupyter-widgets/controls",
            "_model_module_version": "1.5.0",
            "_model_name": "ProgressStyleModel",
            "_view_count": null,
            "_view_module": "@jupyter-widgets/base",
            "_view_module_version": "1.2.0",
            "_view_name": "StyleView",
            "bar_color": null,
            "description_width": ""
          }
        },
        "3b64ec55693847dcb1feed09186e822e": {
          "model_module": "@jupyter-widgets/base",
          "model_name": "LayoutModel",
          "model_module_version": "1.2.0",
          "state": {
            "_model_module": "@jupyter-widgets/base",
            "_model_module_version": "1.2.0",
            "_model_name": "LayoutModel",
            "_view_count": null,
            "_view_module": "@jupyter-widgets/base",
            "_view_module_version": "1.2.0",
            "_view_name": "LayoutView",
            "align_content": null,
            "align_items": null,
            "align_self": null,
            "border": null,
            "bottom": null,
            "display": null,
            "flex": null,
            "flex_flow": null,
            "grid_area": null,
            "grid_auto_columns": null,
            "grid_auto_flow": null,
            "grid_auto_rows": null,
            "grid_column": null,
            "grid_gap": null,
            "grid_row": null,
            "grid_template_areas": null,
            "grid_template_columns": null,
            "grid_template_rows": null,
            "height": null,
            "justify_content": null,
            "justify_items": null,
            "left": null,
            "margin": null,
            "max_height": null,
            "max_width": null,
            "min_height": null,
            "min_width": null,
            "object_fit": null,
            "object_position": null,
            "order": null,
            "overflow": null,
            "overflow_x": null,
            "overflow_y": null,
            "padding": null,
            "right": null,
            "top": null,
            "visibility": null,
            "width": null
          }
        },
        "2724e3cf927640a9be50aee49c1802ff": {
          "model_module": "@jupyter-widgets/controls",
          "model_name": "DescriptionStyleModel",
          "model_module_version": "1.5.0",
          "state": {
            "_model_module": "@jupyter-widgets/controls",
            "_model_module_version": "1.5.0",
            "_model_name": "DescriptionStyleModel",
            "_view_count": null,
            "_view_module": "@jupyter-widgets/base",
            "_view_module_version": "1.2.0",
            "_view_name": "StyleView",
            "description_width": ""
          }
        }
      }
    }
  },
  "cells": [
    {
      "cell_type": "code",
      "source": [
        "# Code snippet 0\n",
        "# Installing AI based ML package\n",
        "!pip install -U --pre pycaret"
      ],
      "metadata": {
        "id": "mh8cWqHu2FTh"
      },
      "execution_count": null,
      "outputs": []
    },
    {
      "cell_type": "code",
      "execution_count": null,
      "metadata": {
        "id": "HtiHaAIfYxCf"
      },
      "outputs": [],
      "source": [
        "# Code snippet 1\n",
        "# Importing the basic Data Science packages\n",
        "import numpy as np\n",
        "import pandas as pd"
      ]
    },
    {
      "cell_type": "code",
      "source": [
        "# Code snippet 2\n",
        "# Reading the file from the Web dataserver URL\n",
        "url = 'https://raw.githubusercontent.com/nvamsimohan/DallasDSA/main/2021%20Texas%20High%20Schools%20Scores.csv'"
      ],
      "metadata": {
        "id": "RpfcruswZist"
      },
      "execution_count": null,
      "outputs": []
    },
    {
      "cell_type": "code",
      "source": [
        "# Code snippet 3\n",
        "# Using Pandas package to read the csv file\n",
        "df = pd.read_csv(url)"
      ],
      "metadata": {
        "id": "vJALRNssLYCx"
      },
      "execution_count": null,
      "outputs": []
    },
    {
      "cell_type": "code",
      "source": [
        "# Code snippet 4\n",
        "# Displaying the data size\n",
        "df.shape"
      ],
      "metadata": {
        "id": "XxoPXPhuLZuZ",
        "colab": {
          "base_uri": "https://localhost:8080/"
        },
        "outputId": "9b099e55-8502-4bc3-f88e-26ba8c24190b"
      },
      "execution_count": null,
      "outputs": [
        {
          "output_type": "execute_result",
          "data": {
            "text/plain": [
              "(1821, 25)"
            ]
          },
          "metadata": {},
          "execution_count": 42
        }
      ]
    },
    {
      "cell_type": "code",
      "source": [
        "# Code snippet 4.1\n",
        "# Displaying the column names\n",
        "df.columns"
      ],
      "metadata": {
        "id": "ZZ9tV2RE3JLP",
        "colab": {
          "base_uri": "https://localhost:8080/"
        },
        "outputId": "28bc4436-ee10-4a39-da80-c88ff804ee69"
      },
      "execution_count": null,
      "outputs": [
        {
          "output_type": "execute_result",
          "data": {
            "text/plain": [
              "Index(['School', 'School URL', 'District', 'District URL', 'City', 'City URL',\n",
              "       'Zip', 'County', 'Phone', 'Is Title I', 'Is Charter', 'Is Magnet',\n",
              "       'Is Virtual', 'Number Students', 'Number Full-time Teachers',\n",
              "       'Student/Teacher Ratio', 'Percent Free/Disc Lunch',\n",
              "       'Percent Homes Rented', 'Percent of  Unemployment',\n",
              "       'Percent Parents with Masters and above education',\n",
              "       'Percent parents with less than High School education',\n",
              "       'Percent Home Incomes with less than Median income',\n",
              "       'Home Prices Ranking', 'Community Health Ranking', 'Standard Score'],\n",
              "      dtype='object')"
            ]
          },
          "metadata": {},
          "execution_count": 43
        }
      ]
    },
    {
      "cell_type": "code",
      "source": [
        "# Code snippet 5\n",
        "# School name, URLs and phone features are ignored from analysis\n",
        "# % Food stamps, %crime fields ignored from the analysis due\n",
        "# to high missing proportion of data\n",
        "cols = ['District', 'City', \n",
        "       'Zip', 'County', 'Is Title I', 'Is Charter', 'Is Magnet',\n",
        "       'Is Virtual', 'Number Students', 'Number Full-time Teachers',\n",
        "       'Student/Teacher Ratio', 'Percent Free/Disc Lunch',\n",
        "       'Percent Homes Rented', 'Percent of  Unemployment',\n",
        "       'Percent Parents with Masters and above education',\n",
        "       'Percent parents with less than High School education',\n",
        "       'Percent Home Incomes with less than Median income',\n",
        "       'Home Prices Ranking', 'Community Health Ranking', 'Standard Score']\n",
        "df1 = df[cols]\n",
        "df1.columns"
      ],
      "metadata": {
        "id": "5EvlfJqnZqtU",
        "colab": {
          "base_uri": "https://localhost:8080/"
        },
        "outputId": "2381fd66-8792-426c-f079-6baaf18f4a60"
      },
      "execution_count": null,
      "outputs": [
        {
          "output_type": "execute_result",
          "data": {
            "text/plain": [
              "Index(['District', 'City', 'Zip', 'County', 'Is Title I', 'Is Charter',\n",
              "       'Is Magnet', 'Is Virtual', 'Number Students',\n",
              "       'Number Full-time Teachers', 'Student/Teacher Ratio',\n",
              "       'Percent Free/Disc Lunch', 'Percent Homes Rented',\n",
              "       'Percent of  Unemployment',\n",
              "       'Percent Parents with Masters and above education',\n",
              "       'Percent parents with less than High School education',\n",
              "       'Percent Home Incomes with less than Median income',\n",
              "       'Home Prices Ranking', 'Community Health Ranking', 'Standard Score'],\n",
              "      dtype='object')"
            ]
          },
          "metadata": {},
          "execution_count": 44
        }
      ]
    },
    {
      "cell_type": "code",
      "source": [
        "# Code snippet 6\n",
        "# Importing all Regression ML libraries\n",
        "from pycaret.regression import *"
      ],
      "metadata": {
        "id": "4NuffbVLacdf"
      },
      "execution_count": null,
      "outputs": []
    },
    {
      "cell_type": "code",
      "source": [
        "# Code snippet 7\n",
        "# Setting all categorical features to one variable\n",
        "cat_cols = ['District', 'City', 'Zip', 'County', 'Is Title I', 'Is Charter',\n",
        "       'Is Magnet', 'Is Virtual']"
      ],
      "metadata": {
        "id": "B2T6NHn0aHDl"
      },
      "execution_count": null,
      "outputs": []
    },
    {
      "cell_type": "code",
      "source": [
        "# Code snippet 8\n",
        "# Setting all numerical features to one variable\n",
        "num_cols = ['Number Students',\n",
        "       'Number Full-time Teachers', 'Student/Teacher Ratio',\n",
        "       'Percent Free/Disc Lunch', 'Percent Homes Rented',\n",
        "       'Percent of  Unemployment',\n",
        "       'Percent Parents with Masters and above education',\n",
        "       'Percent parents with less than High School education',\n",
        "       'Percent Home Incomes with less than Median income',\n",
        "       'Home Prices Ranking', 'Community Health Ranking']"
      ],
      "metadata": {
        "id": "kR--L3suMQ80"
      },
      "execution_count": null,
      "outputs": []
    },
    {
      "cell_type": "code",
      "source": [
        "# Code snippet 9\n",
        "# Setting up the regression model using Pycaret - passing the categorical and numerical variables\n",
        "regression_model_setup = setup(df1, target = 'Standard Score', categorical_features= cat_cols,\n",
        "      numeric_features = num_cols)"
      ],
      "metadata": {
        "id": "ClbHtQnebEtv"
      },
      "execution_count": null,
      "outputs": []
    },
    {
      "cell_type": "code",
      "source": [
        "# Code snippet 10\n",
        "# Running the Pycaret AutoML process with a time-out parameter\n",
        "compare_models(budget_time = 3)"
      ],
      "metadata": {
        "id": "JBOXgnmacV-2"
      },
      "execution_count": null,
      "outputs": []
    },
    {
      "cell_type": "code",
      "source": [
        "# Code snippet 11\n",
        "# Creating a ML model using the best algorithm\n",
        "model = create_model('lightgbm')"
      ],
      "metadata": {
        "id": "o2JSm7D3vV0g",
        "colab": {
          "base_uri": "https://localhost:8080/",
          "height": 824,
          "referenced_widgets": [
            "ff10f8f8d36645989841fdf119037daf",
            "585bc127fb4b4eb38474c91e298854a7",
            "7503ced8f3c94798b3a47d0446f1893c",
            "410ea2ed942540c2856a4ab2e034561a",
            "45a51bb1ce024cf1b156a8fa72b3024e",
            "d757a949a3fb42d3aec9fdd8a63debe2",
            "a9483bb011144186a036079e4f29136b",
            "72b0463fc9b34afdb94f9f90c17eaff3",
            "f1a92e82be63437fa8a536567a1c5e15",
            "3b64ec55693847dcb1feed09186e822e",
            "2724e3cf927640a9be50aee49c1802ff"
          ]
        },
        "outputId": "ce84b101-c96a-4acf-c3d8-67dd990f6191"
      },
      "execution_count": null,
      "outputs": [
        {
          "output_type": "stream",
          "name": "stderr",
          "text": [
            "INFO:logs:Initializing create_model()\n",
            "INFO:logs:create_model(self=<pycaret.regression.oop.RegressionExperiment object at 0x7f2900262d10>, estimator=lightgbm, fold=None, round=4, cross_validation=True, predict=True, fit_kwargs=None, groups=None, refit=True, probability_threshold=None, experiment_custom_tags=None, verbose=True, system=True, add_to_model_list=True, metrics=None, display=None, model_only=True, return_train_score=False, kwargs={})\n",
            "INFO:logs:Checking exceptions\n"
          ]
        },
        {
          "output_type": "display_data",
          "data": {
            "text/plain": [
              "<IPython.core.display.HTML object>"
            ],
            "text/html": [
              ""
            ]
          },
          "metadata": {}
        },
        {
          "output_type": "display_data",
          "data": {
            "text/plain": [
              "<pandas.io.formats.style.Styler at 0x7f29000db890>"
            ],
            "text/html": [
              "<style type=\"text/css\">\n",
              "#T_5dd1a_row10_col0, #T_5dd1a_row10_col1, #T_5dd1a_row10_col2, #T_5dd1a_row10_col3, #T_5dd1a_row10_col4, #T_5dd1a_row10_col5 {\n",
              "  background: yellow;\n",
              "}\n",
              "</style>\n",
              "<table id=\"T_5dd1a_\" class=\"dataframe\">\n",
              "  <thead>\n",
              "    <tr>\n",
              "      <th class=\"blank level0\" >&nbsp;</th>\n",
              "      <th class=\"col_heading level0 col0\" >MAE</th>\n",
              "      <th class=\"col_heading level0 col1\" >MSE</th>\n",
              "      <th class=\"col_heading level0 col2\" >RMSE</th>\n",
              "      <th class=\"col_heading level0 col3\" >R2</th>\n",
              "      <th class=\"col_heading level0 col4\" >RMSLE</th>\n",
              "      <th class=\"col_heading level0 col5\" >MAPE</th>\n",
              "    </tr>\n",
              "    <tr>\n",
              "      <th class=\"index_name level0\" >Fold</th>\n",
              "      <th class=\"blank col0\" >&nbsp;</th>\n",
              "      <th class=\"blank col1\" >&nbsp;</th>\n",
              "      <th class=\"blank col2\" >&nbsp;</th>\n",
              "      <th class=\"blank col3\" >&nbsp;</th>\n",
              "      <th class=\"blank col4\" >&nbsp;</th>\n",
              "      <th class=\"blank col5\" >&nbsp;</th>\n",
              "    </tr>\n",
              "  </thead>\n",
              "  <tbody>\n",
              "    <tr>\n",
              "      <th id=\"T_5dd1a_level0_row0\" class=\"row_heading level0 row0\" >0</th>\n",
              "      <td id=\"T_5dd1a_row0_col0\" class=\"data row0 col0\" >9.2107</td>\n",
              "      <td id=\"T_5dd1a_row0_col1\" class=\"data row0 col1\" >156.6041</td>\n",
              "      <td id=\"T_5dd1a_row0_col2\" class=\"data row0 col2\" >12.5142</td>\n",
              "      <td id=\"T_5dd1a_row0_col3\" class=\"data row0 col3\" >0.7679</td>\n",
              "      <td id=\"T_5dd1a_row0_col4\" class=\"data row0 col4\" >0.5089</td>\n",
              "      <td id=\"T_5dd1a_row0_col5\" class=\"data row0 col5\" >0.5757</td>\n",
              "    </tr>\n",
              "    <tr>\n",
              "      <th id=\"T_5dd1a_level0_row1\" class=\"row_heading level0 row1\" >1</th>\n",
              "      <td id=\"T_5dd1a_row1_col0\" class=\"data row1 col0\" >9.3612</td>\n",
              "      <td id=\"T_5dd1a_row1_col1\" class=\"data row1 col1\" >157.1181</td>\n",
              "      <td id=\"T_5dd1a_row1_col2\" class=\"data row1 col2\" >12.5347</td>\n",
              "      <td id=\"T_5dd1a_row1_col3\" class=\"data row1 col3\" >0.7356</td>\n",
              "      <td id=\"T_5dd1a_row1_col4\" class=\"data row1 col4\" >0.5105</td>\n",
              "      <td id=\"T_5dd1a_row1_col5\" class=\"data row1 col5\" >0.6365</td>\n",
              "    </tr>\n",
              "    <tr>\n",
              "      <th id=\"T_5dd1a_level0_row2\" class=\"row_heading level0 row2\" >2</th>\n",
              "      <td id=\"T_5dd1a_row2_col0\" class=\"data row2 col0\" >7.8656</td>\n",
              "      <td id=\"T_5dd1a_row2_col1\" class=\"data row2 col1\" >109.3776</td>\n",
              "      <td id=\"T_5dd1a_row2_col2\" class=\"data row2 col2\" >10.4584</td>\n",
              "      <td id=\"T_5dd1a_row2_col3\" class=\"data row2 col3\" >0.8139</td>\n",
              "      <td id=\"T_5dd1a_row2_col4\" class=\"data row2 col4\" >0.4211</td>\n",
              "      <td id=\"T_5dd1a_row2_col5\" class=\"data row2 col5\" >0.4152</td>\n",
              "    </tr>\n",
              "    <tr>\n",
              "      <th id=\"T_5dd1a_level0_row3\" class=\"row_heading level0 row3\" >3</th>\n",
              "      <td id=\"T_5dd1a_row3_col0\" class=\"data row3 col0\" >9.9284</td>\n",
              "      <td id=\"T_5dd1a_row3_col1\" class=\"data row3 col1\" >190.9528</td>\n",
              "      <td id=\"T_5dd1a_row3_col2\" class=\"data row3 col2\" >13.8186</td>\n",
              "      <td id=\"T_5dd1a_row3_col3\" class=\"data row3 col3\" >0.6882</td>\n",
              "      <td id=\"T_5dd1a_row3_col4\" class=\"data row3 col4\" >0.4724</td>\n",
              "      <td id=\"T_5dd1a_row3_col5\" class=\"data row3 col5\" >0.5210</td>\n",
              "    </tr>\n",
              "    <tr>\n",
              "      <th id=\"T_5dd1a_level0_row4\" class=\"row_heading level0 row4\" >4</th>\n",
              "      <td id=\"T_5dd1a_row4_col0\" class=\"data row4 col0\" >8.9097</td>\n",
              "      <td id=\"T_5dd1a_row4_col1\" class=\"data row4 col1\" >134.8680</td>\n",
              "      <td id=\"T_5dd1a_row4_col2\" class=\"data row4 col2\" >11.6133</td>\n",
              "      <td id=\"T_5dd1a_row4_col3\" class=\"data row4 col3\" >0.7815</td>\n",
              "      <td id=\"T_5dd1a_row4_col4\" class=\"data row4 col4\" >0.3893</td>\n",
              "      <td id=\"T_5dd1a_row4_col5\" class=\"data row4 col5\" >0.3504</td>\n",
              "    </tr>\n",
              "    <tr>\n",
              "      <th id=\"T_5dd1a_level0_row5\" class=\"row_heading level0 row5\" >5</th>\n",
              "      <td id=\"T_5dd1a_row5_col0\" class=\"data row5 col0\" >11.1167</td>\n",
              "      <td id=\"T_5dd1a_row5_col1\" class=\"data row5 col1\" >222.0023</td>\n",
              "      <td id=\"T_5dd1a_row5_col2\" class=\"data row5 col2\" >14.8997</td>\n",
              "      <td id=\"T_5dd1a_row5_col3\" class=\"data row5 col3\" >0.6681</td>\n",
              "      <td id=\"T_5dd1a_row5_col4\" class=\"data row5 col4\" >0.4988</td>\n",
              "      <td id=\"T_5dd1a_row5_col5\" class=\"data row5 col5\" >0.6144</td>\n",
              "    </tr>\n",
              "    <tr>\n",
              "      <th id=\"T_5dd1a_level0_row6\" class=\"row_heading level0 row6\" >6</th>\n",
              "      <td id=\"T_5dd1a_row6_col0\" class=\"data row6 col0\" >10.4672</td>\n",
              "      <td id=\"T_5dd1a_row6_col1\" class=\"data row6 col1\" >191.8099</td>\n",
              "      <td id=\"T_5dd1a_row6_col2\" class=\"data row6 col2\" >13.8495</td>\n",
              "      <td id=\"T_5dd1a_row6_col3\" class=\"data row6 col3\" >0.6721</td>\n",
              "      <td id=\"T_5dd1a_row6_col4\" class=\"data row6 col4\" >0.5858</td>\n",
              "      <td id=\"T_5dd1a_row6_col5\" class=\"data row6 col5\" >1.0126</td>\n",
              "    </tr>\n",
              "    <tr>\n",
              "      <th id=\"T_5dd1a_level0_row7\" class=\"row_heading level0 row7\" >7</th>\n",
              "      <td id=\"T_5dd1a_row7_col0\" class=\"data row7 col0\" >9.4643</td>\n",
              "      <td id=\"T_5dd1a_row7_col1\" class=\"data row7 col1\" >178.6248</td>\n",
              "      <td id=\"T_5dd1a_row7_col2\" class=\"data row7 col2\" >13.3651</td>\n",
              "      <td id=\"T_5dd1a_row7_col3\" class=\"data row7 col3\" >0.7184</td>\n",
              "      <td id=\"T_5dd1a_row7_col4\" class=\"data row7 col4\" >0.4091</td>\n",
              "      <td id=\"T_5dd1a_row7_col5\" class=\"data row7 col5\" >0.3822</td>\n",
              "    </tr>\n",
              "    <tr>\n",
              "      <th id=\"T_5dd1a_level0_row8\" class=\"row_heading level0 row8\" >8</th>\n",
              "      <td id=\"T_5dd1a_row8_col0\" class=\"data row8 col0\" >10.7981</td>\n",
              "      <td id=\"T_5dd1a_row8_col1\" class=\"data row8 col1\" >207.7324</td>\n",
              "      <td id=\"T_5dd1a_row8_col2\" class=\"data row8 col2\" >14.4129</td>\n",
              "      <td id=\"T_5dd1a_row8_col3\" class=\"data row8 col3\" >0.6485</td>\n",
              "      <td id=\"T_5dd1a_row8_col4\" class=\"data row8 col4\" >0.4880</td>\n",
              "      <td id=\"T_5dd1a_row8_col5\" class=\"data row8 col5\" >0.6072</td>\n",
              "    </tr>\n",
              "    <tr>\n",
              "      <th id=\"T_5dd1a_level0_row9\" class=\"row_heading level0 row9\" >9</th>\n",
              "      <td id=\"T_5dd1a_row9_col0\" class=\"data row9 col0\" >9.2482</td>\n",
              "      <td id=\"T_5dd1a_row9_col1\" class=\"data row9 col1\" >187.6103</td>\n",
              "      <td id=\"T_5dd1a_row9_col2\" class=\"data row9 col2\" >13.6971</td>\n",
              "      <td id=\"T_5dd1a_row9_col3\" class=\"data row9 col3\" >0.6936</td>\n",
              "      <td id=\"T_5dd1a_row9_col4\" class=\"data row9 col4\" >0.4242</td>\n",
              "      <td id=\"T_5dd1a_row9_col5\" class=\"data row9 col5\" >0.2805</td>\n",
              "    </tr>\n",
              "    <tr>\n",
              "      <th id=\"T_5dd1a_level0_row10\" class=\"row_heading level0 row10\" >Mean</th>\n",
              "      <td id=\"T_5dd1a_row10_col0\" class=\"data row10 col0\" >9.6370</td>\n",
              "      <td id=\"T_5dd1a_row10_col1\" class=\"data row10 col1\" >173.6700</td>\n",
              "      <td id=\"T_5dd1a_row10_col2\" class=\"data row10 col2\" >13.1163</td>\n",
              "      <td id=\"T_5dd1a_row10_col3\" class=\"data row10 col3\" >0.7188</td>\n",
              "      <td id=\"T_5dd1a_row10_col4\" class=\"data row10 col4\" >0.4708</td>\n",
              "      <td id=\"T_5dd1a_row10_col5\" class=\"data row10 col5\" >0.5396</td>\n",
              "    </tr>\n",
              "    <tr>\n",
              "      <th id=\"T_5dd1a_level0_row11\" class=\"row_heading level0 row11\" >Std</th>\n",
              "      <td id=\"T_5dd1a_row11_col0\" class=\"data row11 col0\" >0.9175</td>\n",
              "      <td id=\"T_5dd1a_row11_col1\" class=\"data row11 col1\" >32.4765</td>\n",
              "      <td id=\"T_5dd1a_row11_col2\" class=\"data row11 col2\" >1.2774</td>\n",
              "      <td id=\"T_5dd1a_row11_col3\" class=\"data row11 col3\" >0.0519</td>\n",
              "      <td id=\"T_5dd1a_row11_col4\" class=\"data row11 col4\" >0.0570</td>\n",
              "      <td id=\"T_5dd1a_row11_col5\" class=\"data row11 col5\" >0.1970</td>\n",
              "    </tr>\n",
              "  </tbody>\n",
              "</table>\n"
            ]
          },
          "metadata": {}
        },
        {
          "output_type": "display_data",
          "data": {
            "text/plain": [
              "Processing:   0%|          | 0/4 [00:00<?, ?it/s]"
            ],
            "application/vnd.jupyter.widget-view+json": {
              "version_major": 2,
              "version_minor": 0,
              "model_id": "ff10f8f8d36645989841fdf119037daf"
            }
          },
          "metadata": {
            "application/vnd.jupyter.widget-view+json": {
              "colab": {
                "custom_widget_manager": {
                  "url": "https://ssl.gstatic.com/colaboratory-static/widgets/colab-cdn-widget-manager/d2e234f7cc04bf79/manager.min.js"
                }
              }
            }
          }
        },
        {
          "output_type": "stream",
          "name": "stderr",
          "text": [
            "INFO:logs:Importing libraries\n",
            "INFO:logs:Copying training dataset\n",
            "INFO:logs:Defining folds\n",
            "INFO:logs:Declaring metric variables\n",
            "INFO:logs:Importing untrained model\n",
            "INFO:logs:Light Gradient Boosting Machine Imported successfully\n",
            "INFO:logs:Starting cross validation\n",
            "INFO:logs:Cross validating with KFold(n_splits=10, random_state=None, shuffle=False), n_jobs=-1\n",
            "INFO:logs:Calculating mean and std\n",
            "INFO:logs:Creating metrics dataframe\n",
            "INFO:logs:Finalizing model\n"
          ]
        },
        {
          "output_type": "display_data",
          "data": {
            "text/plain": [
              "<IPython.core.display.HTML object>"
            ],
            "text/html": [
              ""
            ]
          },
          "metadata": {}
        },
        {
          "output_type": "stream",
          "name": "stderr",
          "text": [
            "INFO:logs:Uploading results into container\n",
            "INFO:logs:Uploading model into container now\n",
            "INFO:logs:master_model_container: 20\n",
            "INFO:logs:display_container: 4\n",
            "INFO:logs:LGBMRegressor(random_state=2960)\n",
            "INFO:logs:create_model() successfully completed......................................\n"
          ]
        }
      ]
    },
    {
      "cell_type": "code",
      "source": [
        "# Code snippet 12\n",
        "# Obtaining the client data and saving it to a new pred_data dataframe\n",
        "url1 = 'https://raw.githubusercontent.com/nvamsimohan/DallasDSA/main/2021%20-%20Texas%20High%20Schools%20Client%20-%20Dataset.csv'\n",
        "pred_data = pd.read_csv(url1)\n",
        "pred_data.columns"
      ],
      "metadata": {
        "id": "fBj8y6ND0WI0",
        "colab": {
          "base_uri": "https://localhost:8080/"
        },
        "outputId": "9c4eec89-d205-46c0-ceaa-35f72b347ad8"
      },
      "execution_count": null,
      "outputs": [
        {
          "output_type": "execute_result",
          "data": {
            "text/plain": [
              "Index(['School', 'District', 'City', 'Zip', 'County', 'Phone', 'Is Title I',\n",
              "       'Is Charter', 'Is Magnet', 'Is Virtual', 'Number Students',\n",
              "       'Number Full-time Teachers', 'Student/Teacher Ratio',\n",
              "       'Percent Free/Disc Lunch', 'Percent Homes Rented',\n",
              "       'Percent of  Unemployment',\n",
              "       'Percent Parents with Masters and above education',\n",
              "       'Percent parents with less than High School education',\n",
              "       'Percent Home Incomes with less than Median income',\n",
              "       'Home Prices Ranking', 'Community Health Ranking', 'Standard Score'],\n",
              "      dtype='object')"
            ]
          },
          "metadata": {},
          "execution_count": 56
        }
      ]
    },
    {
      "cell_type": "code",
      "source": [
        "# Code snippet 13\n",
        "# Selecting all the predictor columns from the client dataset\n",
        "cols1 = ['School', 'District', 'City', 'Zip', 'County', 'Phone', 'Is Title I',\n",
        "       'Is Charter', 'Is Magnet', 'Is Virtual', 'Number Students',\n",
        "       'Number Full-time Teachers', 'Student/Teacher Ratio',\n",
        "       'Percent Free/Disc Lunch', 'Percent Homes Rented',\n",
        "       'Percent of  Unemployment',\n",
        "       'Percent Parents with Masters and above education',\n",
        "       'Percent parents with less than High School education',\n",
        "       'Percent Home Incomes with less than Median income',\n",
        "       'Home Prices Ranking', 'Community Health Ranking']\n",
        "pred_data1 = pred_data[cols1]"
      ],
      "metadata": {
        "id": "Mv9yCDGtIgBa"
      },
      "execution_count": null,
      "outputs": []
    },
    {
      "cell_type": "code",
      "source": [
        "# Code snippet 14\n",
        "# Predicting the Standard Scores using the best ML model\n",
        "predictions = predict_model(model, data = pred_data1)"
      ],
      "metadata": {
        "id": "G6F84Ow90qI4",
        "colab": {
          "base_uri": "https://localhost:8080/",
          "height": 124
        },
        "outputId": "15e534ae-3243-40f8-b760-eac069bd99ff"
      },
      "execution_count": null,
      "outputs": [
        {
          "output_type": "stream",
          "name": "stderr",
          "text": [
            "INFO:logs:Initializing predict_model()\n",
            "INFO:logs:predict_model(self=<pycaret.regression.oop.RegressionExperiment object at 0x7f2900262d10>, estimator=LGBMRegressor(random_state=2960), probability_threshold=None, encoded_labels=False, raw_score=False, drift_report=False, round=4, verbose=True, ml_usecase=None, preprocess=True, replace_labels_in_column=<function _SupervisedExperiment.predict_model.<locals>.replace_labels_in_column at 0x7f29091cd5f0>)\n",
            "INFO:logs:Checking exceptions\n",
            "INFO:logs:Preloading libraries\n"
          ]
        },
        {
          "output_type": "display_data",
          "data": {
            "text/plain": [
              "<IPython.core.display.HTML object>"
            ],
            "text/html": [
              ""
            ]
          },
          "metadata": {}
        },
        {
          "output_type": "stream",
          "name": "stderr",
          "text": [
            "INFO:logs:Set up data.\n"
          ]
        }
      ]
    },
    {
      "cell_type": "code",
      "source": [
        "# Code snippet 15\n",
        "# Converting the predictions to a csv file to send it to client\n",
        "predictions.to_csv(\"TX School Standard Score Predictions.csv\")"
      ],
      "metadata": {
        "id": "KvfO7U0wNUXX"
      },
      "execution_count": null,
      "outputs": []
    }
  ]
}