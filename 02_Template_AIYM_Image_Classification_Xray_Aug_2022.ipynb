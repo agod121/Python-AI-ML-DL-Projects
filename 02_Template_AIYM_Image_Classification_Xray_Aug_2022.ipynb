{
  "nbformat": 4,
  "nbformat_minor": 0,
  "metadata": {
    "kernelspec": {
      "display_name": "py3.7",
      "language": "python",
      "name": "py3.7"
    },
    "language_info": {
      "codemirror_mode": {
        "name": "ipython",
        "version": 3
      },
      "file_extension": ".py",
      "mimetype": "text/x-python",
      "name": "python",
      "nbconvert_exporter": "python",
      "pygments_lexer": "ipython3",
      "version": "3.7.2"
    },
    "colab": {
      "name": "02_Template_AIYM_Image_Classification_Xray_Aug_2022.ipynb",
      "provenance": [],
      "collapsed_sections": []
    },
    "accelerator": "TPU"
  },
  "cells": [
    {
      "cell_type": "code",
      "metadata": {
        "id": "gKamAXa4Q50E"
      },
      "source": [
        "# Code snippet 0\n",
        "# Import the Libraries\n",
        "from keras.models import Sequential\n",
        "from keras.layers import Conv2D\n",
        "from keras.layers import MaxPool2D\n",
        "from keras.layers import Flatten\n",
        "from keras.layers import Dense\n",
        "import numpy as np\n",
        "from tensorflow import random"
      ],
      "execution_count": null,
      "outputs": []
    },
    {
      "cell_type": "code",
      "metadata": {
        "id": "dhhcEWl3UbOB",
        "colab": {
          "base_uri": "https://localhost:8080/"
        },
        "outputId": "0fbc268b-964a-429d-b82b-787259e64ae5"
      },
      "source": [
        "# Code snippet 1\n",
        "from google.colab import drive\n",
        "drive.mount('/content/drive')"
      ],
      "execution_count": null,
      "outputs": [
        {
          "output_type": "stream",
          "name": "stdout",
          "text": [
            "Drive already mounted at /content/drive; to attempt to forcibly remount, call drive.mount(\"/content/drive\", force_remount=True).\n"
          ]
        }
      ]
    },
    {
      "cell_type": "code",
      "metadata": {
        "id": "epQ6J9BLQ50L"
      },
      "source": [
        "# Code snippet 2\n",
        "#  Configuring the Neural Network to absorb the images\n",
        "seed = 1\n",
        "np.random.seed(seed)\n",
        "random.set_seed(seed)\n",
        "\n",
        "# Initialising the CNN\n",
        "classifier = Sequential()\n",
        "\n",
        "classifier.add(Conv2D(32, (3, 3), input_shape = (64, 64, 3), activation = 'relu'))\n",
        "classifier.add(Conv2D(32, (3, 3), activation = 'relu'))\n",
        "classifier.add(Conv2D(32, (3, 3), activation = 'relu'))\n",
        "\n",
        "# Pooling\n",
        "classifier.add(MaxPool2D(pool_size = (2, 2)))\n",
        "\n",
        "# Add additional convolutional layer and pooling\n",
        "classifier.add(Conv2D(32, (3, 3), activation = 'relu'))\n",
        "classifier.add(MaxPool2D(pool_size = (2, 2)))\n",
        "\n",
        "#  Flattening\n",
        "classifier.add(Flatten())\n",
        "\n",
        "# Full ANN Connection\n",
        "classifier.add(Dense(units = 128, activation = 'relu'))\n",
        "classifier.add(Dense(128,activation='relu'))\n",
        "classifier.add(Dense(128,activation='relu'))\n",
        "classifier.add(Dense(128,activation='relu'))\n",
        "classifier.add(Dense(units = 1, activation = 'sigmoid'))\n",
        "# Compiling the CNN\n",
        "classifier.compile(optimizer = 'adam', loss = 'binary_crossentropy', metrics = ['accuracy'])"
      ],
      "execution_count": null,
      "outputs": []
    },
    {
      "cell_type": "markdown",
      "metadata": {
        "id": "p6Fpm-ElQ50Z"
      },
      "source": [
        "Normalize the image data"
      ]
    },
    {
      "cell_type": "code",
      "metadata": {
        "id": "Suz_T3GmQ50a"
      },
      "source": [
        "# Code snippet 3\n",
        "from keras.preprocessing.image import ImageDataGenerator\n",
        "\n",
        "train_datagen = ImageDataGenerator(rescale = 1./255,\n",
        "                                   shear_range = 0.2,\n",
        "                                   zoom_range = 0.2,\n",
        "                                   horizontal_flip = True)\n",
        "\n",
        "\n",
        "test_datagen = ImageDataGenerator(rescale = 1./255)"
      ],
      "execution_count": null,
      "outputs": []
    },
    {
      "cell_type": "markdown",
      "metadata": {
        "id": "EgDet_mtQ50d"
      },
      "source": [
        "Assigning training and test data sets"
      ]
    },
    {
      "cell_type": "code",
      "metadata": {
        "id": "rjPFcpkZQ50e",
        "colab": {
          "base_uri": "https://localhost:8080/"
        },
        "outputId": "52fafd38-7421-4ea8-ca8f-7103738a5d97"
      },
      "source": [
        "# Code snippet 4\n",
        "training_set = train_datagen.flow_from_directory('/content/drive/MyDrive/Image Classification/chest_xray/train_images',\n",
        "                                                 target_size = (64, 64),\n",
        "                                                 batch_size = 32,\n",
        "                                                 class_mode = 'binary')\n",
        "\n",
        "test_set = test_datagen.flow_from_directory('/content/drive/MyDrive/Image Classification/chest_xray/val_images',\n",
        "                                            target_size = (64, 64),\n",
        "                                            batch_size = 32,\n",
        "                                            class_mode = 'binary')"
      ],
      "execution_count": null,
      "outputs": [
        {
          "output_type": "stream",
          "name": "stdout",
          "text": [
            "Found 5225 images belonging to 2 classes.\n",
            "Found 16 images belonging to 2 classes.\n"
          ]
        }
      ]
    },
    {
      "cell_type": "markdown",
      "metadata": {
        "id": "mWwQRTutQ50i"
      },
      "source": [
        "Fit the model to the training data"
      ]
    },
    {
      "cell_type": "code",
      "metadata": {
        "id": "vbAYA6OkQ50i",
        "colab": {
          "base_uri": "https://localhost:8080/"
        },
        "outputId": "003862b9-f7f0-4af4-bbe8-29029d187ef1"
      },
      "source": [
        "# Code snippet 5\n",
        "classifier.fit_generator(training_set,\n",
        "                         epochs = 1,\n",
        "                         validation_data = test_set\n",
        "                        )"
      ],
      "execution_count": null,
      "outputs": [
        {
          "output_type": "stream",
          "name": "stderr",
          "text": [
            "/usr/local/lib/python3.7/dist-packages/ipykernel_launcher.py:4: UserWarning: `Model.fit_generator` is deprecated and will be removed in a future version. Please use `Model.fit`, which supports generators.\n",
            "  after removing the cwd from sys.path.\n"
          ]
        },
        {
          "output_type": "stream",
          "name": "stdout",
          "text": [
            "164/164 [==============================] - 1218s 7s/step - loss: 0.4204 - accuracy: 0.8132 - val_loss: 0.5888 - val_accuracy: 0.6250\n"
          ]
        },
        {
          "output_type": "execute_result",
          "data": {
            "text/plain": [
              "<keras.callbacks.History at 0x7f88822b7790>"
            ]
          },
          "metadata": {},
          "execution_count": 6
        }
      ]
    },
    {
      "cell_type": "code",
      "metadata": {
        "id": "qiPuOk8aQ50n",
        "colab": {
          "base_uri": "https://localhost:8080/",
          "height": 81
        },
        "outputId": "4655aad1-ff68-4368-a763-0c7a15d2e8f0"
      },
      "source": [
        "# Code snippet 6 - SELECT an IMAGE from the Test or validation images folder\n",
        "# Load a new image for testing the AI program\n",
        "from keras.preprocessing import image\n",
        "new_image = image.load_img('/content/drive/MyDrive/Image Classification/chest_xray/train_images/PNEUMONIA/person1003_bacteria_2934.jpeg', target_size = (64, 64))\n",
        "new_image"
      ],
      "execution_count": null,
      "outputs": [
        {
          "output_type": "execute_result",
          "data": {
            "text/plain": [
              "<PIL.Image.Image image mode=RGB size=64x64 at 0x7F88821ECD90>"
            ],
            "image/png": "[encoded data removed]"
          },
          "metadata": {},
          "execution_count": 14
        }
      ]
    },
    {
      "cell_type": "code",
      "metadata": {
        "id": "aalSWaIPQ50q",
        "colab": {
          "base_uri": "https://localhost:8080/"
        },
        "outputId": "d1aaa271-eb9d-4b87-c718-0f4187622c95"
      },
      "source": [
        "# Code snippet 7\n",
        "# Class names\n",
        "training_set.class_indices"
      ],
      "execution_count": null,
      "outputs": [
        {
          "output_type": "execute_result",
          "data": {
            "text/plain": [
              "{'NORMAL': 0, 'PNEUMONIA': 1}"
            ]
          },
          "metadata": {},
          "execution_count": 15
        }
      ]
    },
    {
      "cell_type": "markdown",
      "metadata": {
        "id": "DzjsscaiQ50u"
      },
      "source": [
        "Print the results"
      ]
    },
    {
      "cell_type": "code",
      "metadata": {
        "id": "KvDu83HcQ50u",
        "colab": {
          "base_uri": "https://localhost:8080/"
        },
        "outputId": "db70556c-6dbe-40fd-a4ea-5708cdcb5f55"
      },
      "source": [
        "# Code snippet 8\n",
        "new_image = image.img_to_array(new_image)\n",
        "new_image = np.expand_dims(new_image, axis = 0)\n",
        "result = classifier.predict(new_image)\n",
        "result\n",
        "result[0][0]"
      ],
      "execution_count": null,
      "outputs": [
        {
          "output_type": "execute_result",
          "data": {
            "text/plain": [
              "0.84065443"
            ]
          },
          "metadata": {},
          "execution_count": 16
        }
      ]
    },
    {
      "cell_type": "code",
      "metadata": {
        "id": "fW8E_uvjmjzl",
        "colab": {
          "base_uri": "https://localhost:8080/"
        },
        "outputId": "606c1ffa-f3be-4b0f-eebc-f5f15079874f"
      },
      "source": [
        "# Code snippet 9\n",
        "if result[0][0] > 0.5:\n",
        "    prediction = 'This X ray shows PNEUMONIA'\n",
        "else:\n",
        "    prediction = 'This X ray is NORMAL'\n",
        "print(prediction)"
      ],
      "execution_count": null,
      "outputs": [
        {
          "output_type": "stream",
          "name": "stdout",
          "text": [
            "This X ray shows PNEUMONIA\n"
          ]
        }
      ]
    }
  ]
}